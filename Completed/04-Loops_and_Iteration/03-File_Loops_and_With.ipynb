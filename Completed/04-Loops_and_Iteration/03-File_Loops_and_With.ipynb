{
  "cells": [
    {
      "cell_type": "markdown",
      "id": "2843d4ba",
      "metadata": {
        "id": "2843d4ba"
      },
      "source": [
        "# 📘 03 - File Loops and `with`\n",
        "\n",
        "Use `with open(...)` to read files and process content."
      ]
    },
    {
      "cell_type": "markdown",
      "id": "4d270565",
      "metadata": {
        "id": "4d270565"
      },
      "source": [
        "## ✅ Learning Goals\n",
        "- Open and read files using `with`\n",
        "- Loop over lines in a file\n",
        "- Use `.strip()` and `.split()` to process text"
      ]
    },
    {
      "cell_type": "code",
      "execution_count": 1,
      "id": "4ac4df0a",
      "metadata": {
        "id": "4ac4df0a",
        "outputId": "f5f144a1-866c-453d-edbe-20e20f3468fd",
        "colab": {
          "base_uri": "https://localhost:8080/"
        }
      },
      "outputs": [
        {
          "output_type": "stream",
          "name": "stdout",
          "text": [
            "This is a sample text file.\n",
            "It contains a few lines of text.\n",
            "You can use this file for testing purposes.\n"
          ]
        }
      ],
      "source": [
        "# 📝 Sample file read\n",
        "with open('sample.txt', 'r') as file:\n",
        "    for line in file:\n",
        "        print(line.strip())"
      ]
    },
    {
      "cell_type": "code",
      "execution_count": 2,
      "id": "4f430e6d",
      "metadata": {
        "id": "4f430e6d",
        "outputId": "f2c91f10-aede-484a-cf82-d87218578c70",
        "colab": {
          "base_uri": "https://localhost:8080/"
        }
      },
      "outputs": [
        {
          "output_type": "stream",
          "name": "stdout",
          "text": [
            "Parts: ['This is a sample text file.']\n",
            "Parts: ['It contains a few lines of text.']\n",
            "Parts: ['You can use this file for testing purposes.']\n"
          ]
        }
      ],
      "source": [
        "# 🔍 Process each line\n",
        "with open('sample.txt', 'r') as f:\n",
        "    for line in f:\n",
        "        parts = line.strip().split(',')\n",
        "        print('Parts:', parts)"
      ]
    },
    {
      "cell_type": "markdown",
      "id": "c5f556e4",
      "metadata": {
        "id": "c5f556e4"
      },
      "source": [
        "### ✏️ Your Turn\n",
        "Open a text file and print all lines that contain more than 3 words."
      ]
    },
    {
      "cell_type": "code",
      "execution_count": 5,
      "id": "0c72a05f",
      "metadata": {
        "id": "0c72a05f",
        "outputId": "4e101f3c-27fb-4731-d81b-6c47111a4048",
        "colab": {
          "base_uri": "https://localhost:8080/"
        }
      },
      "outputs": [
        {
          "output_type": "stream",
          "name": "stdout",
          "text": [
            "planet book book star mouse moon\n",
            "river python keyboard mouse keyboard screen pear\n",
            "planet python river book ocean\n",
            "planet mouse apple keyboard\n",
            "computer pear galaxy melon mouse apple ocean python melon forest\n"
          ]
        }
      ],
      "source": [
        "with open('random_words.txt', 'r') as file:\n",
        "  for line in file:\n",
        "    if len(line.split()) > 3:\n",
        "      print(line.strip())"
      ]
    }
  ],
  "metadata": {
    "colab": {
      "provenance": []
    },
    "language_info": {
      "name": "python"
    },
    "kernelspec": {
      "name": "python3",
      "display_name": "Python 3"
    }
  },
  "nbformat": 4,
  "nbformat_minor": 5
}
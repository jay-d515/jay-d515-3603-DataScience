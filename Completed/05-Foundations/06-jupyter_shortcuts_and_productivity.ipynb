{
  "cells": [
    {
      "cell_type": "markdown",
      "metadata": {
        "id": "l_5vmYzXJsBJ"
      },
      "source": [
        "# ⚡ 06 - Jupyter Shortcuts and Productivity\n",
        "\n",
        "Jupyter notebooks have **keyboard shortcuts and tricks** that make you faster.  \n",
        "In this notebook you will learn:\n",
        "- Command vs. Edit mode\n",
        "- Essential keyboard shortcuts\n",
        "- Saving and exporting notebooks\n",
        "- Using `%history` and `%save`\n"
      ],
      "id": "l_5vmYzXJsBJ"
    },
    {
      "cell_type": "markdown",
      "source": [
        "\n",
        "\n",
        "```\n",
        "# Name: Jadyn Dangerfield\n",
        "# Assignment: 06-Jupyter Shortcuts and Productivity\n",
        "```\n",
        "\n"
      ],
      "metadata": {
        "id": "F9F3n7WJimO1"
      },
      "id": "F9F3n7WJimO1"
    },
    {
      "cell_type": "markdown",
      "metadata": {
        "id": "QUsxD1qVJsBN"
      },
      "source": [
        "## 1. Modes in Jupyter"
      ],
      "id": "QUsxD1qVJsBN"
    },
    {
      "cell_type": "markdown",
      "metadata": {
        "id": "iKxoBRYVJsBO"
      },
      "source": [
        "- **Edit mode** (green border, type in cell)\n",
        "- **Command mode** (blue border, issue commands on the notebook)\n",
        "\n",
        "Switch:\n",
        "- Press `Enter` → Edit mode\n",
        "- Press `Esc` → Command mode"
      ],
      "id": "iKxoBRYVJsBO"
    },
    {
      "cell_type": "markdown",
      "metadata": {
        "id": "BJ1NcsxaJsBP"
      },
      "source": [
        "✅ **Your Turn**: Try switching between Edit and Command mode and notice the border color."
      ],
      "id": "BJ1NcsxaJsBP"
    },
    {
      "cell_type": "markdown",
      "metadata": {
        "id": "dC25vymaJsBP"
      },
      "source": [
        "## 2. Common Shortcuts"
      ],
      "id": "dC25vymaJsBP"
    },
    {
      "cell_type": "markdown",
      "metadata": {
        "id": "DytQs0sdJsBP"
      },
      "source": [
        "- `A` → Insert cell Above\n",
        "- `B` → Insert cell Below\n",
        "- `D D` → Delete a cell\n",
        "- `M` → Change to Markdown cell\n",
        "- `Y` → Change to Code cell\n",
        "- `Shift + Enter` → Run cell and move to next\n",
        "- `Ctrl + Enter` → Run cell, stay put\n",
        "- `Alt + Enter` → Run cell and insert new one below"
      ],
      "id": "DytQs0sdJsBP"
    },
    {
      "cell_type": "markdown",
      "metadata": {
        "id": "lKsetZC-JsBQ"
      },
      "source": [
        "✅ **Your Turn**: Practice creating, deleting, and changing cell types using only shortcuts."
      ],
      "id": "lKsetZC-JsBQ"
    },
    {
      "cell_type": "markdown",
      "metadata": {
        "id": "Ypm-JcBSJsBQ"
      },
      "source": [
        "## 3. Saving and Exporting"
      ],
      "id": "Ypm-JcBSJsBQ"
    },
    {
      "cell_type": "markdown",
      "metadata": {
        "id": "YIzS-xaCJsBQ"
      },
      "source": [
        "- `Ctrl + S` (or `Cmd + S` on Mac) → Save notebook\n",
        "- Menu: *File → Download as…* → export to `.py`, `.html`, or `.pdf`\n",
        "- GitHub + Colab workflow: commit changes back to your repo directly"
      ],
      "id": "YIzS-xaCJsBQ"
    },
    {
      "cell_type": "markdown",
      "metadata": {
        "id": "eDnMOPmZJsBQ"
      },
      "source": [
        "✅ **Your Turn**: Save this notebook, then try exporting to `.py` or `.html` from the File menu."
      ],
      "id": "eDnMOPmZJsBQ"
    },
    {
      "cell_type": "markdown",
      "metadata": {
        "id": "r3ejzGbgJsBR"
      },
      "source": [
        "## 4. History and Saving Code"
      ],
      "id": "r3ejzGbgJsBR"
    },
    {
      "cell_type": "code",
      "execution_count": null,
      "metadata": {
        "colab": {
          "base_uri": "https://localhost:8080/"
        },
        "id": "I40g7oA2JsBR",
        "outputId": "a4283b3a-c232-42d8-e784-ecf2df51bec4"
      },
      "outputs": [
        {
          "output_type": "stream",
          "name": "stdout",
          "text": [
            "   1: %history -n 1-5  # Show the first 5 commands in this session\n"
          ]
        }
      ],
      "source": [
        "%history -n 1-5  # Show the first 5 commands in this session"
      ],
      "id": "I40g7oA2JsBR"
    },
    {
      "cell_type": "code",
      "execution_count": null,
      "metadata": {
        "id": "ezj81hc6JsBS"
      },
      "outputs": [],
      "source": [
        "# Save history to a file\n",
        "%save my_session.py 1-5"
      ],
      "id": "ezj81hc6JsBS"
    },
    {
      "cell_type": "markdown",
      "metadata": {
        "id": "5z-YXidaJsBS"
      },
      "source": [
        "✅ **Your Turn**: Use `%history` to view the last 10 commands you ran, then save them to `last10.py`."
      ],
      "id": "5z-YXidaJsBS"
    },
    {
      "cell_type": "code",
      "source": [
        "%history -n 1-10"
      ],
      "metadata": {
        "id": "iCCnGktNN3IJ",
        "outputId": "69ac5828-55b7-4eb8-d955-58ffb8fae773",
        "colab": {
          "base_uri": "https://localhost:8080/"
        }
      },
      "id": "iCCnGktNN3IJ",
      "execution_count": null,
      "outputs": [
        {
          "output_type": "stream",
          "name": "stdout",
          "text": [
            "   1: %history -n 1-5  # Show the first 5 commands in this session\n",
            "   2:\n",
            "%pwd\n",
            "%cd\n",
            "%pwd\n",
            "   3: %ls\n",
            "   4: %history -n 1-10\n",
            "   5: %pwd\n",
            "   6: %cd\n",
            "   7: %pwd\n",
            "   8: %cd\n",
            "   9: %pwd\n",
            "  10: %cd\n"
          ]
        }
      ]
    },
    {
      "cell_type": "code",
      "source": [
        "%save last10.py 1-10"
      ],
      "metadata": {
        "id": "1bV5zAOIOZlo",
        "outputId": "e291727b-9dd2-439d-c120-ce6b588a2b0a",
        "colab": {
          "base_uri": "https://localhost:8080/"
        }
      },
      "id": "1bV5zAOIOZlo",
      "execution_count": null,
      "outputs": [
        {
          "output_type": "stream",
          "name": "stdout",
          "text": [
            "The following commands were written to file `last10.py`:\n",
            "get_ipython().run_line_magic('history', '-n 1-5  # Show the first 5 commands in this session')\n",
            "get_ipython().run_line_magic('pwd', '')\n",
            "get_ipython().run_line_magic('cd', '')\n",
            "get_ipython().run_line_magic('pwd', '')\n",
            "get_ipython().run_line_magic('ls', '')\n",
            "get_ipython().run_line_magic('history', '-n 1-10')\n",
            "get_ipython().run_line_magic('pwd', '')\n",
            "get_ipython().run_line_magic('cd', '')\n",
            "get_ipython().run_line_magic('pwd', '')\n",
            "get_ipython().run_line_magic('cd', '')\n",
            "get_ipython().run_line_magic('pwd', '')\n",
            "get_ipython().run_line_magic('cd', '')\n"
          ]
        }
      ]
    },
    {
      "cell_type": "markdown",
      "metadata": {
        "id": "zi1BRfkUJsBS"
      },
      "source": [
        "---\n",
        "### Summary\n",
        "- Command vs Edit mode controls how you interact with cells.\n",
        "- Shortcuts make notebook use much faster.\n",
        "- You can export notebooks to share or turn them into scripts.\n",
        "- `%history` and `%save` help you capture your work.\n"
      ],
      "id": "zi1BRfkUJsBS"
    }
  ],
  "metadata": {
    "kernelspec": {
      "display_name": "Python 3",
      "language": "python",
      "name": "python3"
    },
    "language_info": {
      "name": "python",
      "version": "3.x"
    },
    "colab": {
      "provenance": []
    }
  },
  "nbformat": 4,
  "nbformat_minor": 5
}
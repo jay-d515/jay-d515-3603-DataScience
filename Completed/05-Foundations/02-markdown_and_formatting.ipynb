{
  "cells": [
    {
      "cell_type": "markdown",
      "metadata": {
        "id": "fAFGorkOKyWs"
      },
      "source": [
        "# 📝 02 - Markdown and Formatting\n",
        "\n",
        "Jupyter notebooks are not just for code — you can mix **Markdown** and code to create clear, professional-looking reports.\n",
        "\n",
        "This notebook introduces:\n",
        "- Writing Markdown cells (headings, lists, links)\n",
        "- Adding inline **LaTeX math**\n",
        "- Embedding images\n",
        "- Why formatting matters in data science communication\n"
      ],
      "id": "fAFGorkOKyWs"
    },
    {
      "cell_type": "markdown",
      "metadata": {
        "id": "yMfMj7m_KyWu"
      },
      "source": [
        "## 1. Headings and Text Styles"
      ],
      "id": "yMfMj7m_KyWu"
    },
    {
      "cell_type": "markdown",
      "metadata": {
        "id": "ntjw-2h2KyWu"
      },
      "source": [
        "### Example\n",
        "# Heading 1\n",
        "## Heading 2\n",
        "### Heading 3\n",
        "\n",
        "**Bold text**, *italic text*, `inline code`"
      ],
      "id": "ntjw-2h2KyWu"
    },
    {
      "cell_type": "markdown",
      "metadata": {
        "id": "xP6Vz3TfKyWv"
      },
      "source": [
        "✅ **Your Turn**: Create a cell with the heading `## My Favorite Data Tools` and list at least three tools in bold."
      ],
      "id": "xP6Vz3TfKyWv"
    },
    {
      "cell_type": "markdown",
      "source": [
        "## My Favorite Data Tools:\n",
        "\n",
        "- **Jupyter Notebooks**\n",
        "- **pandas**\n",
        "- **Excel**"
      ],
      "metadata": {
        "id": "xhgnxlqjK5ZF"
      },
      "id": "xhgnxlqjK5ZF"
    },
    {
      "cell_type": "markdown",
      "metadata": {
        "id": "lO99ffqiKyWv"
      },
      "source": [
        "## 2. Lists"
      ],
      "id": "lO99ffqiKyWv"
    },
    {
      "cell_type": "markdown",
      "metadata": {
        "id": "LreQpunoKyWv"
      },
      "source": [
        "### Example\n",
        "- Item 1\n",
        "- Item 2\n",
        "  - Sub-item 2a\n",
        "  - Sub-item 2b\n",
        "\n",
        "1. First\n",
        "2. Second\n",
        "3. Third"
      ],
      "id": "LreQpunoKyWv"
    },
    {
      "cell_type": "markdown",
      "metadata": {
        "id": "O8SuDrgPKyWw"
      },
      "source": [
        "✅ **Your Turn**: Make an ordered list of your top 3 programming languages."
      ],
      "id": "O8SuDrgPKyWw"
    },
    {
      "cell_type": "markdown",
      "source": [
        "1. C++\n",
        "2. python\n",
        "3. javascript"
      ],
      "metadata": {
        "id": "CpOv4tnoMKK7"
      },
      "id": "CpOv4tnoMKK7"
    },
    {
      "cell_type": "markdown",
      "metadata": {
        "id": "spk8P6ntKyWw"
      },
      "source": [
        "## 3. Links and Images"
      ],
      "id": "spk8P6ntKyWw"
    },
    {
      "cell_type": "markdown",
      "metadata": {
        "id": "mJuqU-6xKyWw"
      },
      "source": [
        "### Links\n",
        "[OpenAI](https://www.openai.com)\n",
        "\n",
        "### Images\n",
        "![MSU Logo](https://upload.wikimedia.org/wikipedia/en/8/8b/Midwestern_State_University_seal.png)"
      ],
      "id": "mJuqU-6xKyWw"
    },
    {
      "cell_type": "markdown",
      "metadata": {
        "id": "g_wafz-8KyWw"
      },
      "source": [
        "✅ **Your Turn**: Insert a link to your favorite website and embed an image (can be a URL or local file)."
      ],
      "id": "g_wafz-8KyWw"
    },
    {
      "cell_type": "markdown",
      "source": [
        "[Youtube](https://www.youtube.com/)\n",
        "\n",
        "![Youtube Logo](https://logos-world.net/wp-content/uploads/2020/04/YouTube-Logo.png)"
      ],
      "metadata": {
        "id": "NuiKoIhFMWh6"
      },
      "id": "NuiKoIhFMWh6"
    },
    {
      "cell_type": "markdown",
      "metadata": {
        "id": "J4GmTxSvKyWx"
      },
      "source": [
        "## 4. LaTeX Math"
      ],
      "id": "J4GmTxSvKyWx"
    },
    {
      "cell_type": "markdown",
      "metadata": {
        "id": "7ESYk3jEKyWx"
      },
      "source": [
        "You can render math using LaTeX syntax inside `$ ... $` for inline or `$$ ... $$` for block math.\n",
        "\n",
        "Example:  \n",
        "Inline: $E = mc^2$  \n",
        "Block:\n",
        "$$\n",
        "\\frac{\\partial f}{\\partial x} = 2x\n",
        "$$"
      ],
      "id": "7ESYk3jEKyWx"
    },
    {
      "cell_type": "markdown",
      "metadata": {
        "id": "zGrqPuKFKyWx"
      },
      "source": [
        "✅ **Your Turn**: Write the quadratic formula in LaTeX."
      ],
      "id": "zGrqPuKFKyWx"
    },
    {
      "cell_type": "markdown",
      "source": [
        "$$ax^2 + bx + c$$"
      ],
      "metadata": {
        "id": "YO4i579QNCp-"
      },
      "id": "YO4i579QNCp-"
    },
    {
      "cell_type": "markdown",
      "metadata": {
        "id": "UBl2VbIvKyWx"
      },
      "source": [
        "## 5. Mixing Code and Markdown"
      ],
      "id": "UBl2VbIvKyWx"
    },
    {
      "cell_type": "code",
      "execution_count": null,
      "metadata": {
        "id": "-phbe1UXKyWx"
      },
      "outputs": [],
      "source": [
        "# Example: create data in Python\n",
        "numbers = [1, 2, 3, 4, 5]\n",
        "squares = [n**2 for n in numbers]\n",
        "squares"
      ],
      "id": "-phbe1UXKyWx"
    },
    {
      "cell_type": "markdown",
      "metadata": {
        "id": "LWn-wzaxKyWy"
      },
      "source": [
        "Now we explain results in Markdown:\n",
        "- The list `numbers` contained 1–5.\n",
        "- The list `squares` contains each number squared.\n",
        "- Mixing narrative + results is why notebooks are so powerful."
      ],
      "id": "LWn-wzaxKyWy"
    },
    {
      "cell_type": "markdown",
      "metadata": {
        "id": "PKVrgSjIKyWy"
      },
      "source": [
        "✅ **Your Turn**: Create a list of 3 numbers, calculate their cubes in code, then explain in Markdown."
      ],
      "id": "PKVrgSjIKyWy"
    },
    {
      "cell_type": "code",
      "source": [
        "numbers = [1, 2, 3]\n",
        "cubes = [n**3 for n in numbers]\n",
        "\n",
        "cubes"
      ],
      "metadata": {
        "id": "8i7V7e5qNUS3",
        "outputId": "586ebcdd-be14-4abc-8e7d-21661b7fd547",
        "colab": {
          "base_uri": "https://localhost:8080/"
        }
      },
      "id": "8i7V7e5qNUS3",
      "execution_count": 1,
      "outputs": [
        {
          "output_type": "execute_result",
          "data": {
            "text/plain": [
              "[1, 8, 27]"
            ]
          },
          "metadata": {},
          "execution_count": 1
        }
      ]
    },
    {
      "cell_type": "markdown",
      "source": [
        "- The list `numbers` contains the integers 1-3\n",
        "- The list `cubes` contains each number cubed\n",
        "- `cubes` prints each number cubed, when it's called"
      ],
      "metadata": {
        "id": "M6SBKhlLNoNG"
      },
      "id": "M6SBKhlLNoNG"
    },
    {
      "cell_type": "markdown",
      "metadata": {
        "id": "rxf0uFLKKyWy"
      },
      "source": [
        "---\n",
        "### Summary\n",
        "- Use headings and formatting to organize.\n",
        "- Lists and links make content readable.\n",
        "- LaTeX lets you add professional math.\n",
        "- Combine code + Markdown for clear data storytelling.\n"
      ],
      "id": "rxf0uFLKKyWy"
    }
  ],
  "metadata": {
    "kernelspec": {
      "display_name": "Python 3",
      "language": "python",
      "name": "python3"
    },
    "language_info": {
      "name": "python",
      "version": "3.x"
    },
    "colab": {
      "provenance": []
    }
  },
  "nbformat": 4,
  "nbformat_minor": 5
}
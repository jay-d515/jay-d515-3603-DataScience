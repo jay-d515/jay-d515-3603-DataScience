{
  "cells": [
    {
      "cell_type": "markdown",
      "metadata": {
        "id": "i-UeeEYRLH8B"
      },
      "source": [
        "# 📚 07 - Using Help and Documentation\n",
        "\n",
        "One of the most important skills in programming is knowing **how to get help**.  \n",
        "Jupyter/IPython make it easy to explore functions, classes, and objects.\n",
        "\n",
        "In this notebook you will learn:\n",
        "- Using `?` and `??` to view docstrings and source code\n",
        "- The built-in `help()` function\n",
        "- Tab completion for attributes and methods\n",
        "- Accessing external documentation\n"
      ],
      "id": "i-UeeEYRLH8B"
    },
    {
      "cell_type": "markdown",
      "source": [
        "\n",
        "\n",
        "```\n",
        "# Name: Jadyn Dangerfield\n",
        "# Assignment: 07- Using Help and Documentation\n",
        "```\n",
        "\n"
      ],
      "metadata": {
        "id": "m0dqftKGhxsP"
      },
      "id": "m0dqftKGhxsP"
    },
    {
      "cell_type": "markdown",
      "metadata": {
        "id": "WLcc3KvkLH8g"
      },
      "source": [
        "## 1. Using `?` for Quick Help"
      ],
      "id": "WLcc3KvkLH8g"
    },
    {
      "cell_type": "code",
      "execution_count": null,
      "metadata": {
        "id": "Yg7v1OH_LH8k"
      },
      "outputs": [],
      "source": [
        "len?"
      ],
      "id": "Yg7v1OH_LH8k"
    },
    {
      "cell_type": "code",
      "execution_count": null,
      "metadata": {
        "id": "ZPJquQKXLH8u"
      },
      "outputs": [],
      "source": [
        "print?"
      ],
      "id": "ZPJquQKXLH8u"
    },
    {
      "cell_type": "markdown",
      "metadata": {
        "id": "xUIIxyPDLH84"
      },
      "source": [
        "✅ **Your Turn**: Use `?` to check the documentation for `range` and `dict`."
      ],
      "id": "xUIIxyPDLH84"
    },
    {
      "cell_type": "code",
      "source": [
        "range?"
      ],
      "metadata": {
        "id": "QJmhjCcOaftl"
      },
      "id": "QJmhjCcOaftl",
      "execution_count": null,
      "outputs": []
    },
    {
      "cell_type": "code",
      "source": [
        "dict?"
      ],
      "metadata": {
        "id": "DZBS66fqaazf"
      },
      "id": "DZBS66fqaazf",
      "execution_count": null,
      "outputs": []
    },
    {
      "cell_type": "markdown",
      "metadata": {
        "id": "05yOBPJzLH9D"
      },
      "source": [
        "## 2. Using `??` for Source Code (if available)"
      ],
      "id": "05yOBPJzLH9D"
    },
    {
      "cell_type": "code",
      "execution_count": null,
      "metadata": {
        "id": "mv3-qdlZLH9I"
      },
      "outputs": [],
      "source": [
        "sum??"
      ],
      "id": "mv3-qdlZLH9I"
    },
    {
      "cell_type": "markdown",
      "metadata": {
        "id": "QHEmoJCELH9N"
      },
      "source": [
        "✅ **Your Turn**: Use `??` on `pd.read_csv` (after importing pandas) to see if you can view more details."
      ],
      "id": "QHEmoJCELH9N"
    },
    {
      "cell_type": "markdown",
      "metadata": {
        "id": "Hbk7vjJkLH9P"
      },
      "source": [
        "## 3. The `help()` Function"
      ],
      "id": "Hbk7vjJkLH9P"
    },
    {
      "cell_type": "code",
      "execution_count": null,
      "metadata": {
        "colab": {
          "base_uri": "https://localhost:8080/"
        },
        "id": "uWLIo8SELH9Q",
        "outputId": "75418e69-9a30-4c8a-e059-03e49b85eb24"
      },
      "outputs": [
        {
          "output_type": "stream",
          "name": "stdout",
          "text": [
            "Help on built-in function len in module builtins:\n",
            "\n",
            "len(obj, /)\n",
            "    Return the number of items in a container.\n",
            "\n"
          ]
        }
      ],
      "source": [
        "help(len)"
      ],
      "id": "uWLIo8SELH9Q"
    },
    {
      "cell_type": "code",
      "execution_count": null,
      "metadata": {
        "colab": {
          "base_uri": "https://localhost:8080/"
        },
        "id": "0Ov3fbO0LH9S",
        "outputId": "c2f9dabd-c517-487a-b22d-6030a8bb0f44"
      },
      "outputs": [
        {
          "output_type": "stream",
          "name": "stdout",
          "text": [
            "Help on built-in function sqrt in module math:\n",
            "\n",
            "sqrt(x, /)\n",
            "    Return the square root of x.\n",
            "\n"
          ]
        }
      ],
      "source": [
        "import math\n",
        "help(math.sqrt)"
      ],
      "id": "0Ov3fbO0LH9S"
    },
    {
      "cell_type": "code",
      "source": [
        "help(list.append)\n",
        "\n",
        "help(str.upper)"
      ],
      "metadata": {
        "colab": {
          "base_uri": "https://localhost:8080/"
        },
        "id": "NOmr_bdiZNrb",
        "outputId": "5473f22c-3a7b-423d-df79-19b19b39b6bc"
      },
      "id": "NOmr_bdiZNrb",
      "execution_count": null,
      "outputs": [
        {
          "output_type": "stream",
          "name": "stdout",
          "text": [
            "Help on method_descriptor:\n",
            "\n",
            "append(self, object, /) unbound builtins.list method\n",
            "    Append object to the end of the list.\n",
            "\n",
            "Help on method_descriptor:\n",
            "\n",
            "upper(self, /) unbound builtins.str method\n",
            "    Return a copy of the string converted to uppercase.\n",
            "\n"
          ]
        }
      ]
    },
    {
      "cell_type": "markdown",
      "metadata": {
        "id": "2USJ7MGaLH9a"
      },
      "source": [
        "✅ **Your Turn**: Use `help()` to explore `list.append` or `str.upper`."
      ],
      "id": "2USJ7MGaLH9a"
    },
    {
      "cell_type": "markdown",
      "metadata": {
        "id": "2q1_W5WyLH9f"
      },
      "source": [
        "## 4. Tab Completion"
      ],
      "id": "2q1_W5WyLH9f"
    },
    {
      "cell_type": "markdown",
      "metadata": {
        "id": "an8rLpe4LH9j"
      },
      "source": [
        "In a Jupyter cell, type an object name followed by a dot and press `Tab` to see available methods.\n",
        "\n",
        "Example:\n",
        "```python\n",
        "mylist = []\n",
        "mylist.<TAB>\n",
        "```\n",
        "will show you all methods like `append`, `clear`, `copy`, etc."
      ],
      "id": "an8rLpe4LH9j"
    },
    {
      "cell_type": "markdown",
      "metadata": {
        "id": "MVipza3MLH9k"
      },
      "source": [
        "✅ **Your Turn**: Create a dictionary and use tab completion to explore its methods."
      ],
      "id": "MVipza3MLH9k"
    },
    {
      "cell_type": "code",
      "source": [
        "mydictionary = []\n",
        "mydictionary.append?"
      ],
      "metadata": {
        "id": "wzbmD8OtZWEs"
      },
      "id": "wzbmD8OtZWEs",
      "execution_count": null,
      "outputs": []
    },
    {
      "cell_type": "markdown",
      "metadata": {
        "id": "2442TGE2LH9k"
      },
      "source": [
        "## 5. External Documentation"
      ],
      "id": "2442TGE2LH9k"
    },
    {
      "cell_type": "markdown",
      "metadata": {
        "id": "ZiLvyJuLLH9l"
      },
      "source": [
        "- Many libraries (like Pandas, NumPy, Matplotlib) have excellent online docs.\n",
        "- Example: [https://pandas.pydata.org/docs/](https://pandas.pydata.org/docs/)\n",
        "- You can Google: `pandas read_csv site:pandas.pydata.org`"
      ],
      "id": "ZiLvyJuLLH9l"
    },
    {
      "cell_type": "markdown",
      "metadata": {
        "id": "OfonUDUMLH9l"
      },
      "source": [
        "✅ **Your Turn**: Look up the official documentation for Matplotlib’s `plt.plot` online."
      ],
      "id": "OfonUDUMLH9l"
    },
    {
      "cell_type": "markdown",
      "metadata": {
        "id": "onZF78crLH9n"
      },
      "source": [
        "---\n",
        "### Summary\n",
        "- `?` gives quick documentation.\n",
        "- `??` shows source if available.\n",
        "- `help()` is Python’s built-in way.\n",
        "- Tab completion speeds up discovery.\n",
        "- External docs are your best friend for deeper dives.\n"
      ],
      "id": "onZF78crLH9n"
    }
  ],
  "metadata": {
    "kernelspec": {
      "display_name": "Python 3",
      "language": "python",
      "name": "python3"
    },
    "language_info": {
      "name": "python",
      "version": "3.x"
    },
    "colab": {
      "provenance": []
    }
  },
  "nbformat": 4,
  "nbformat_minor": 5
}
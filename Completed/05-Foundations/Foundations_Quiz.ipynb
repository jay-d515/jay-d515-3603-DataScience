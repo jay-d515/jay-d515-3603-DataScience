{
  "cells": [
    {
      "cell_type": "markdown",
      "metadata": {
        "id": "_fwxMTUSLS_E"
      },
      "source": [
        "# 📝 Foundations Quiz\n",
        "\n",
        "This quiz covers material from the **Foundations** notebooks (01–08).  \n",
        "Answer each question in the provided cell. Some questions require code, others are written answers.\n"
      ],
      "id": "_fwxMTUSLS_E"
    },
    {
      "cell_type": "markdown",
      "metadata": {
        "id": "jAAsulokLS_H"
      },
      "source": [
        "## Q1. Magics\n",
        "What does `%whos` display? Write your answer below."
      ],
      "id": "jAAsulokLS_H"
    },
    {
      "cell_type": "markdown",
      "metadata": {
        "id": "79EDZWaiLS_I"
      },
      "source": [
        "*Your Answer:* A list of variables currently in memory and their names, sizes, and types."
      ],
      "id": "79EDZWaiLS_I"
    },
    {
      "cell_type": "markdown",
      "metadata": {
        "id": "R1mHmBycLS_I"
      },
      "source": [
        "## Q2. Markdown\n",
        "Create a Markdown cell with a heading `## My Hobbies` and a bullet list of at least 3 hobbies."
      ],
      "id": "R1mHmBycLS_I"
    },
    {
      "cell_type": "markdown",
      "metadata": {
        "id": "LLOZN1mMLS_J"
      },
      "source": [
        "*Your Answer:*\n",
        "## My Hobbies\n",
        "- Listening to Music\n",
        "- Drawing\n",
        "- Watching Youtube\n",
        "- Running"
      ],
      "id": "LLOZN1mMLS_J"
    },
    {
      "cell_type": "markdown",
      "metadata": {
        "id": "zW0N99YoLS_J"
      },
      "source": [
        "## Q3. Files and Paths\n",
        "Use `%pwd` to print your current working directory."
      ],
      "id": "zW0N99YoLS_J"
    },
    {
      "cell_type": "code",
      "execution_count": 2,
      "metadata": {
        "id": "Gz_ltzmELS_J",
        "outputId": "0f96a0f5-b816-4bd5-e1c7-e71020c54c68",
        "colab": {
          "base_uri": "https://localhost:8080/",
          "height": 35
        }
      },
      "outputs": [
        {
          "output_type": "execute_result",
          "data": {
            "text/plain": [
              "'/content'"
            ],
            "application/vnd.google.colaboratory.intrinsic+json": {
              "type": "string"
            }
          },
          "metadata": {},
          "execution_count": 2
        }
      ],
      "source": [
        "%pwd"
      ],
      "id": "Gz_ltzmELS_J"
    },
    {
      "cell_type": "markdown",
      "metadata": {
        "id": "Qx6QuC9aLS_K"
      },
      "source": [
        "## Q4. File I/O\n",
        "Write Python code that saves `Hello World` to a file called `hello.txt`, then reads it back and prints the contents."
      ],
      "id": "Qx6QuC9aLS_K"
    },
    {
      "cell_type": "code",
      "execution_count": 3,
      "metadata": {
        "id": "gm0j9Q-jLS_K",
        "outputId": "a8510074-1cb4-47be-f1e1-d5e583d8561f",
        "colab": {
          "base_uri": "https://localhost:8080/"
        }
      },
      "outputs": [
        {
          "output_type": "stream",
          "name": "stdout",
          "text": [
            "Hello World\n"
          ]
        }
      ],
      "source": [
        "# saves hello world to a file called hello.tct, then reads it back and prints the contents\n",
        "with open('hello.txt', 'w') as f:\n",
        "  f.write('Hello World')\n",
        "\n",
        "with open('hello.txt', 'r') as f:\n",
        "  print(f.read())"
      ],
      "id": "gm0j9Q-jLS_K"
    },
    {
      "cell_type": "markdown",
      "metadata": {
        "id": "I6MRBzzRLS_L"
      },
      "source": [
        "## Q5. Data I/O\n",
        "Load the file `students.csv` (or create a small CSV yourself) with Pandas and show the first 5 rows."
      ],
      "id": "I6MRBzzRLS_L"
    },
    {
      "cell_type": "code",
      "execution_count": 5,
      "metadata": {
        "id": "cWuiPao7LS_L",
        "outputId": "a6b2cf0d-a5c2-4722-bc06-e4d0d0ceccbe",
        "colab": {
          "base_uri": "https://localhost:8080/",
          "height": 206
        }
      },
      "outputs": [
        {
          "output_type": "execute_result",
          "data": {
            "text/plain": [
              "  first_name last_name  math_score  science_score\n",
              "0   Danielle      Wood         100             95\n",
              "1      Angel     Clark          67             78\n",
              "2     Joshua     Adams          61            100\n",
              "3    Jeffrey    Zuniga          77             99\n",
              "4       Jill      Wong          75             83"
            ],
            "text/html": [
              "\n",
              "  <div id=\"df-595cb271-f514-4e1c-8fd5-db0ec92d5130\" class=\"colab-df-container\">\n",
              "    <div>\n",
              "<style scoped>\n",
              "    .dataframe tbody tr th:only-of-type {\n",
              "        vertical-align: middle;\n",
              "    }\n",
              "\n",
              "    .dataframe tbody tr th {\n",
              "        vertical-align: top;\n",
              "    }\n",
              "\n",
              "    .dataframe thead th {\n",
              "        text-align: right;\n",
              "    }\n",
              "</style>\n",
              "<table border=\"1\" class=\"dataframe\">\n",
              "  <thead>\n",
              "    <tr style=\"text-align: right;\">\n",
              "      <th></th>\n",
              "      <th>first_name</th>\n",
              "      <th>last_name</th>\n",
              "      <th>math_score</th>\n",
              "      <th>science_score</th>\n",
              "    </tr>\n",
              "  </thead>\n",
              "  <tbody>\n",
              "    <tr>\n",
              "      <th>0</th>\n",
              "      <td>Danielle</td>\n",
              "      <td>Wood</td>\n",
              "      <td>100</td>\n",
              "      <td>95</td>\n",
              "    </tr>\n",
              "    <tr>\n",
              "      <th>1</th>\n",
              "      <td>Angel</td>\n",
              "      <td>Clark</td>\n",
              "      <td>67</td>\n",
              "      <td>78</td>\n",
              "    </tr>\n",
              "    <tr>\n",
              "      <th>2</th>\n",
              "      <td>Joshua</td>\n",
              "      <td>Adams</td>\n",
              "      <td>61</td>\n",
              "      <td>100</td>\n",
              "    </tr>\n",
              "    <tr>\n",
              "      <th>3</th>\n",
              "      <td>Jeffrey</td>\n",
              "      <td>Zuniga</td>\n",
              "      <td>77</td>\n",
              "      <td>99</td>\n",
              "    </tr>\n",
              "    <tr>\n",
              "      <th>4</th>\n",
              "      <td>Jill</td>\n",
              "      <td>Wong</td>\n",
              "      <td>75</td>\n",
              "      <td>83</td>\n",
              "    </tr>\n",
              "  </tbody>\n",
              "</table>\n",
              "</div>\n",
              "    <div class=\"colab-df-buttons\">\n",
              "\n",
              "  <div class=\"colab-df-container\">\n",
              "    <button class=\"colab-df-convert\" onclick=\"convertToInteractive('df-595cb271-f514-4e1c-8fd5-db0ec92d5130')\"\n",
              "            title=\"Convert this dataframe to an interactive table.\"\n",
              "            style=\"display:none;\">\n",
              "\n",
              "  <svg xmlns=\"http://www.w3.org/2000/svg\" height=\"24px\" viewBox=\"0 -960 960 960\">\n",
              "    <path d=\"M120-120v-720h720v720H120Zm60-500h600v-160H180v160Zm220 220h160v-160H400v160Zm0 220h160v-160H400v160ZM180-400h160v-160H180v160Zm440 0h160v-160H620v160ZM180-180h160v-160H180v160Zm440 0h160v-160H620v160Z\"/>\n",
              "  </svg>\n",
              "    </button>\n",
              "\n",
              "  <style>\n",
              "    .colab-df-container {\n",
              "      display:flex;\n",
              "      gap: 12px;\n",
              "    }\n",
              "\n",
              "    .colab-df-convert {\n",
              "      background-color: #E8F0FE;\n",
              "      border: none;\n",
              "      border-radius: 50%;\n",
              "      cursor: pointer;\n",
              "      display: none;\n",
              "      fill: #1967D2;\n",
              "      height: 32px;\n",
              "      padding: 0 0 0 0;\n",
              "      width: 32px;\n",
              "    }\n",
              "\n",
              "    .colab-df-convert:hover {\n",
              "      background-color: #E2EBFA;\n",
              "      box-shadow: 0px 1px 2px rgba(60, 64, 67, 0.3), 0px 1px 3px 1px rgba(60, 64, 67, 0.15);\n",
              "      fill: #174EA6;\n",
              "    }\n",
              "\n",
              "    .colab-df-buttons div {\n",
              "      margin-bottom: 4px;\n",
              "    }\n",
              "\n",
              "    [theme=dark] .colab-df-convert {\n",
              "      background-color: #3B4455;\n",
              "      fill: #D2E3FC;\n",
              "    }\n",
              "\n",
              "    [theme=dark] .colab-df-convert:hover {\n",
              "      background-color: #434B5C;\n",
              "      box-shadow: 0px 1px 3px 1px rgba(0, 0, 0, 0.15);\n",
              "      filter: drop-shadow(0px 1px 2px rgba(0, 0, 0, 0.3));\n",
              "      fill: #FFFFFF;\n",
              "    }\n",
              "  </style>\n",
              "\n",
              "    <script>\n",
              "      const buttonEl =\n",
              "        document.querySelector('#df-595cb271-f514-4e1c-8fd5-db0ec92d5130 button.colab-df-convert');\n",
              "      buttonEl.style.display =\n",
              "        google.colab.kernel.accessAllowed ? 'block' : 'none';\n",
              "\n",
              "      async function convertToInteractive(key) {\n",
              "        const element = document.querySelector('#df-595cb271-f514-4e1c-8fd5-db0ec92d5130');\n",
              "        const dataTable =\n",
              "          await google.colab.kernel.invokeFunction('convertToInteractive',\n",
              "                                                    [key], {});\n",
              "        if (!dataTable) return;\n",
              "\n",
              "        const docLinkHtml = 'Like what you see? Visit the ' +\n",
              "          '<a target=\"_blank\" href=https://colab.research.google.com/notebooks/data_table.ipynb>data table notebook</a>'\n",
              "          + ' to learn more about interactive tables.';\n",
              "        element.innerHTML = '';\n",
              "        dataTable['output_type'] = 'display_data';\n",
              "        await google.colab.output.renderOutput(dataTable, element);\n",
              "        const docLink = document.createElement('div');\n",
              "        docLink.innerHTML = docLinkHtml;\n",
              "        element.appendChild(docLink);\n",
              "      }\n",
              "    </script>\n",
              "  </div>\n",
              "\n",
              "\n",
              "    <div id=\"df-d63d8506-cd5e-4132-8bb5-c3f78f4bee24\">\n",
              "      <button class=\"colab-df-quickchart\" onclick=\"quickchart('df-d63d8506-cd5e-4132-8bb5-c3f78f4bee24')\"\n",
              "                title=\"Suggest charts\"\n",
              "                style=\"display:none;\">\n",
              "\n",
              "<svg xmlns=\"http://www.w3.org/2000/svg\" height=\"24px\"viewBox=\"0 0 24 24\"\n",
              "     width=\"24px\">\n",
              "    <g>\n",
              "        <path d=\"M19 3H5c-1.1 0-2 .9-2 2v14c0 1.1.9 2 2 2h14c1.1 0 2-.9 2-2V5c0-1.1-.9-2-2-2zM9 17H7v-7h2v7zm4 0h-2V7h2v10zm4 0h-2v-4h2v4z\"/>\n",
              "    </g>\n",
              "</svg>\n",
              "      </button>\n",
              "\n",
              "<style>\n",
              "  .colab-df-quickchart {\n",
              "      --bg-color: #E8F0FE;\n",
              "      --fill-color: #1967D2;\n",
              "      --hover-bg-color: #E2EBFA;\n",
              "      --hover-fill-color: #174EA6;\n",
              "      --disabled-fill-color: #AAA;\n",
              "      --disabled-bg-color: #DDD;\n",
              "  }\n",
              "\n",
              "  [theme=dark] .colab-df-quickchart {\n",
              "      --bg-color: #3B4455;\n",
              "      --fill-color: #D2E3FC;\n",
              "      --hover-bg-color: #434B5C;\n",
              "      --hover-fill-color: #FFFFFF;\n",
              "      --disabled-bg-color: #3B4455;\n",
              "      --disabled-fill-color: #666;\n",
              "  }\n",
              "\n",
              "  .colab-df-quickchart {\n",
              "    background-color: var(--bg-color);\n",
              "    border: none;\n",
              "    border-radius: 50%;\n",
              "    cursor: pointer;\n",
              "    display: none;\n",
              "    fill: var(--fill-color);\n",
              "    height: 32px;\n",
              "    padding: 0;\n",
              "    width: 32px;\n",
              "  }\n",
              "\n",
              "  .colab-df-quickchart:hover {\n",
              "    background-color: var(--hover-bg-color);\n",
              "    box-shadow: 0 1px 2px rgba(60, 64, 67, 0.3), 0 1px 3px 1px rgba(60, 64, 67, 0.15);\n",
              "    fill: var(--button-hover-fill-color);\n",
              "  }\n",
              "\n",
              "  .colab-df-quickchart-complete:disabled,\n",
              "  .colab-df-quickchart-complete:disabled:hover {\n",
              "    background-color: var(--disabled-bg-color);\n",
              "    fill: var(--disabled-fill-color);\n",
              "    box-shadow: none;\n",
              "  }\n",
              "\n",
              "  .colab-df-spinner {\n",
              "    border: 2px solid var(--fill-color);\n",
              "    border-color: transparent;\n",
              "    border-bottom-color: var(--fill-color);\n",
              "    animation:\n",
              "      spin 1s steps(1) infinite;\n",
              "  }\n",
              "\n",
              "  @keyframes spin {\n",
              "    0% {\n",
              "      border-color: transparent;\n",
              "      border-bottom-color: var(--fill-color);\n",
              "      border-left-color: var(--fill-color);\n",
              "    }\n",
              "    20% {\n",
              "      border-color: transparent;\n",
              "      border-left-color: var(--fill-color);\n",
              "      border-top-color: var(--fill-color);\n",
              "    }\n",
              "    30% {\n",
              "      border-color: transparent;\n",
              "      border-left-color: var(--fill-color);\n",
              "      border-top-color: var(--fill-color);\n",
              "      border-right-color: var(--fill-color);\n",
              "    }\n",
              "    40% {\n",
              "      border-color: transparent;\n",
              "      border-right-color: var(--fill-color);\n",
              "      border-top-color: var(--fill-color);\n",
              "    }\n",
              "    60% {\n",
              "      border-color: transparent;\n",
              "      border-right-color: var(--fill-color);\n",
              "    }\n",
              "    80% {\n",
              "      border-color: transparent;\n",
              "      border-right-color: var(--fill-color);\n",
              "      border-bottom-color: var(--fill-color);\n",
              "    }\n",
              "    90% {\n",
              "      border-color: transparent;\n",
              "      border-bottom-color: var(--fill-color);\n",
              "    }\n",
              "  }\n",
              "</style>\n",
              "\n",
              "      <script>\n",
              "        async function quickchart(key) {\n",
              "          const quickchartButtonEl =\n",
              "            document.querySelector('#' + key + ' button');\n",
              "          quickchartButtonEl.disabled = true;  // To prevent multiple clicks.\n",
              "          quickchartButtonEl.classList.add('colab-df-spinner');\n",
              "          try {\n",
              "            const charts = await google.colab.kernel.invokeFunction(\n",
              "                'suggestCharts', [key], {});\n",
              "          } catch (error) {\n",
              "            console.error('Error during call to suggestCharts:', error);\n",
              "          }\n",
              "          quickchartButtonEl.classList.remove('colab-df-spinner');\n",
              "          quickchartButtonEl.classList.add('colab-df-quickchart-complete');\n",
              "        }\n",
              "        (() => {\n",
              "          let quickchartButtonEl =\n",
              "            document.querySelector('#df-d63d8506-cd5e-4132-8bb5-c3f78f4bee24 button');\n",
              "          quickchartButtonEl.style.display =\n",
              "            google.colab.kernel.accessAllowed ? 'block' : 'none';\n",
              "        })();\n",
              "      </script>\n",
              "    </div>\n",
              "\n",
              "    </div>\n",
              "  </div>\n"
            ],
            "application/vnd.google.colaboratory.intrinsic+json": {
              "type": "dataframe",
              "variable_name": "df",
              "summary": "{\n  \"name\": \"df\",\n  \"rows\": 50,\n  \"fields\": [\n    {\n      \"column\": \"first_name\",\n      \"properties\": {\n        \"dtype\": \"string\",\n        \"num_unique_values\": 44,\n        \"samples\": [\n          \"Brandon\",\n          \"Melanie\",\n          \"Cassandra\"\n        ],\n        \"semantic_type\": \"\",\n        \"description\": \"\"\n      }\n    },\n    {\n      \"column\": \"last_name\",\n      \"properties\": {\n        \"dtype\": \"string\",\n        \"num_unique_values\": 47,\n        \"samples\": [\n          \"Wright\",\n          \"Conner\",\n          \"Baker\"\n        ],\n        \"semantic_type\": \"\",\n        \"description\": \"\"\n      }\n    },\n    {\n      \"column\": \"math_score\",\n      \"properties\": {\n        \"dtype\": \"number\",\n        \"std\": 12,\n        \"min\": 60,\n        \"max\": 100,\n        \"num_unique_values\": 28,\n        \"samples\": [\n          65,\n          82,\n          94\n        ],\n        \"semantic_type\": \"\",\n        \"description\": \"\"\n      }\n    },\n    {\n      \"column\": \"science_score\",\n      \"properties\": {\n        \"dtype\": \"number\",\n        \"std\": 11,\n        \"min\": 62,\n        \"max\": 100,\n        \"num_unique_values\": 25,\n        \"samples\": [\n          62,\n          82,\n          95\n        ],\n        \"semantic_type\": \"\",\n        \"description\": \"\"\n      }\n    }\n  ]\n}"
            }
          },
          "metadata": {},
          "execution_count": 5
        }
      ],
      "source": [
        "import pandas as pd\n",
        "df = pd.read_csv('students.csv')\n",
        "df.head()"
      ],
      "id": "cWuiPao7LS_L"
    },
    {
      "cell_type": "markdown",
      "metadata": {
        "id": "WNvyFDAyLS_L"
      },
      "source": [
        "## Q6. Plotting\n",
        "Create a line plot of $y = x^2$ for $x$ values from 0 to 10."
      ],
      "id": "WNvyFDAyLS_L"
    },
    {
      "cell_type": "code",
      "execution_count": 4,
      "metadata": {
        "id": "DN2wWkfDLS_M",
        "outputId": "f2da5577-7fda-43e2-a14e-73b478fc25a2",
        "colab": {
          "base_uri": "https://localhost:8080/",
          "height": 430
        }
      },
      "outputs": [
        {
          "output_type": "display_data",
          "data": {
            "text/plain": [
              "<Figure size 640x480 with 1 Axes>"
            ],
            "image/png": "[encoded data removed]"
          },
          "metadata": {}
        }
      ],
      "source": [
        "import matplotlib.pyplot as plt\n",
        "\n",
        "x = range(11)\n",
        "y = [i**2 for i in x]\n",
        "\n",
        "plt.plot(x, y)\n",
        "plt.show()"
      ],
      "id": "DN2wWkfDLS_M"
    },
    {
      "cell_type": "markdown",
      "metadata": {
        "id": "bkqJg8wULS_M"
      },
      "source": [
        "## Q7. Shortcuts\n",
        "In Command mode, what keyboard shortcut deletes a cell?"
      ],
      "id": "bkqJg8wULS_M"
    },
    {
      "cell_type": "markdown",
      "metadata": {
        "id": "9kU_3ABZLS_M"
      },
      "source": [
        "*Your Answer:* DD"
      ],
      "id": "9kU_3ABZLS_M"
    },
    {
      "cell_type": "markdown",
      "metadata": {
        "id": "Yxtgty5eLS_M"
      },
      "source": [
        "## Q8. Help and Docs\n",
        "Use `?` to display the docstring for `len`. Show the result."
      ],
      "id": "Yxtgty5eLS_M"
    },
    {
      "cell_type": "code",
      "execution_count": 6,
      "metadata": {
        "id": "EIw3vKhJLS_M"
      },
      "outputs": [],
      "source": [
        "len?"
      ],
      "id": "EIw3vKhJLS_M"
    },
    {
      "cell_type": "markdown",
      "metadata": {
        "id": "wfzTUz87LS_N"
      },
      "source": [
        "## Q9. Timing\n",
        "Compare the runtime of squaring numbers using a Python loop vs. NumPy. Use `%timeit` for each."
      ],
      "id": "wfzTUz87LS_N"
    },
    {
      "cell_type": "code",
      "execution_count": 8,
      "metadata": {
        "id": "ZoJbdupFLS_N",
        "outputId": "295fc813-4c88-4c3c-a58b-330057a6e06d",
        "colab": {
          "base_uri": "https://localhost:8080/"
        }
      },
      "outputs": [
        {
          "output_type": "stream",
          "name": "stdout",
          "text": [
            "87.2 µs ± 23.3 µs per loop (mean ± std. dev. of 7 runs, 10000 loops each)\n",
            "2.68 µs ± 73 ns per loop (mean ± std. dev. of 7 runs, 100000 loops each)\n"
          ]
        }
      ],
      "source": [
        "import numpy as np\n",
        "\n",
        "%timeit [i**2 for i in range(1000)]\n",
        "\n",
        "%timeit np.arange(1000)**2"
      ],
      "id": "ZoJbdupFLS_N"
    },
    {
      "cell_type": "markdown",
      "metadata": {
        "id": "Vj4htR9VLS_N"
      },
      "source": [
        "## Q10. Reflection\n",
        "Why is it useful to mix Markdown and code in Jupyter notebooks? Write 2–3 sentences."
      ],
      "id": "Vj4htR9VLS_N"
    },
    {
      "cell_type": "markdown",
      "metadata": {
        "id": "bwQDod91LS_N"
      },
      "source": [
        "*Your Answer:* Mixing Markdown and code in Jupyter notebooks is useful because it allows you to combine executable code with explanations, which makes work easier to understand.You can use Markdown to add titles, descriptions, and instructions, which helps other people follow along and understand the purpose of the code."
      ],
      "id": "bwQDod91LS_N"
    }
  ],
  "metadata": {
    "kernelspec": {
      "display_name": "Python 3",
      "language": "python",
      "name": "python3"
    },
    "language_info": {
      "name": "python",
      "version": "3.x"
    },
    "colab": {
      "provenance": []
    }
  },
  "nbformat": 4,
  "nbformat_minor": 5
}
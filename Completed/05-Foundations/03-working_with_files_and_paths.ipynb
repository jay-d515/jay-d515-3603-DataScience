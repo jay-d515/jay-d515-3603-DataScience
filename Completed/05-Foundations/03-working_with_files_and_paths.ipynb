{
  "cells": [
    {
      "cell_type": "markdown",
      "metadata": {
        "id": "kmKKttW_OtNY"
      },
      "source": [
        "# 📂 03 - Working with Files and Paths\n",
        "\n",
        "Data science means working with files all the time: datasets, config files, logs.  \n",
        "This notebook introduces:\n",
        "- Checking your current path in Jupyter\n",
        "- Navigating directories\n",
        "- Reading and writing text files\n",
        "- Using `with` for safe file handling\n",
        "- Basics of JSON and CSV I/O\n"
      ],
      "id": "kmKKttW_OtNY"
    },
    {
      "cell_type": "markdown",
      "metadata": {
        "id": "yCI2YhRiOtNb"
      },
      "source": [
        "## 1. Where Am I?"
      ],
      "id": "yCI2YhRiOtNb"
    },
    {
      "cell_type": "code",
      "execution_count": 1,
      "metadata": {
        "colab": {
          "base_uri": "https://localhost:8080/",
          "height": 35
        },
        "id": "wVI4vhsxOtNb",
        "outputId": "ee025329-e043-4b40-dc51-ebff89146f95"
      },
      "outputs": [
        {
          "output_type": "execute_result",
          "data": {
            "text/plain": [
              "'/content'"
            ],
            "application/vnd.google.colaboratory.intrinsic+json": {
              "type": "string"
            }
          },
          "metadata": {},
          "execution_count": 1
        }
      ],
      "source": [
        "%pwd  # Print current working directory"
      ],
      "id": "wVI4vhsxOtNb"
    },
    {
      "cell_type": "code",
      "execution_count": 2,
      "metadata": {
        "colab": {
          "base_uri": "https://localhost:8080/"
        },
        "id": "U13E-t-zOtNc",
        "outputId": "e2dad80b-62ef-425c-abb8-101e97121766"
      },
      "outputs": [
        {
          "output_type": "stream",
          "name": "stdout",
          "text": [
            "\u001b[0m\u001b[01;34msample_data\u001b[0m/\n"
          ]
        }
      ],
      "source": [
        "%ls  # List files in the current directory"
      ],
      "id": "U13E-t-zOtNc"
    },
    {
      "cell_type": "code",
      "execution_count": 3,
      "metadata": {
        "colab": {
          "base_uri": "https://localhost:8080/",
          "height": 70
        },
        "id": "fcyUbh-5OtNf",
        "outputId": "ca27e54b-e8b7-41a2-a280-3eba5f378bc2"
      },
      "outputs": [
        {
          "output_type": "stream",
          "name": "stdout",
          "text": [
            "[Errno 2] No such file or directory: '.. # Change to parent directory'\n",
            "/content\n"
          ]
        },
        {
          "output_type": "execute_result",
          "data": {
            "text/plain": [
              "'/content'"
            ],
            "application/vnd.google.colaboratory.intrinsic+json": {
              "type": "string"
            }
          },
          "metadata": {},
          "execution_count": 3
        }
      ],
      "source": [
        "%cd ..  # Change to parent directory\n",
        "%pwd"
      ],
      "id": "fcyUbh-5OtNf"
    },
    {
      "cell_type": "markdown",
      "metadata": {
        "id": "yAqLndT0OtNf"
      },
      "source": [
        "✅ **Your Turn**: Navigate into a subfolder of your repo (e.g., `Foundations/`) and list its contents."
      ],
      "id": "yAqLndT0OtNf"
    },
    {
      "cell_type": "code",
      "source": [
        "# navigate into a subfolder of your repo and list its contents\n",
        "%cd sample_data/\n",
        "%ls\n"
      ],
      "metadata": {
        "colab": {
          "base_uri": "https://localhost:8080/"
        },
        "id": "NKXAlqR6PONp",
        "outputId": "8b099423-df4c-4f02-b944-7f1fa6b630a5"
      },
      "id": "NKXAlqR6PONp",
      "execution_count": 17,
      "outputs": [
        {
          "output_type": "stream",
          "name": "stdout",
          "text": [
            "/content/sample_data\n",
            "\u001b[0m\u001b[01;32manscombe.json\u001b[0m*                mnist_test.csv\n",
            "california_housing_test.csv   mnist_train_small.csv\n",
            "california_housing_train.csv  \u001b[01;32mREADME.md\u001b[0m*\n"
          ]
        }
      ]
    },
    {
      "cell_type": "markdown",
      "metadata": {
        "id": "if3rFV4ROtNf"
      },
      "source": [
        "## 2. Writing and Reading Text Files"
      ],
      "id": "if3rFV4ROtNf"
    },
    {
      "cell_type": "code",
      "execution_count": 7,
      "metadata": {
        "id": "ScQ0rOK0OtNg"
      },
      "outputs": [],
      "source": [
        "# Writing to a text file\n",
        "with open(\"example.txt\", \"w\") as f:\n",
        "    f.write(\"Hello, Jupyter!\\n\")\n",
        "    f.write(\"This is a text file.\\n\")"
      ],
      "id": "ScQ0rOK0OtNg"
    },
    {
      "cell_type": "code",
      "execution_count": 8,
      "metadata": {
        "colab": {
          "base_uri": "https://localhost:8080/",
          "height": 35
        },
        "id": "8xi-s1oTOtNg",
        "outputId": "86b3149f-47b8-4f22-f05b-e1a4479d5acc"
      },
      "outputs": [
        {
          "output_type": "execute_result",
          "data": {
            "text/plain": [
              "'Hello, Jupyter!/nThis is a text file.\\n'"
            ],
            "application/vnd.google.colaboratory.intrinsic+json": {
              "type": "string"
            }
          },
          "metadata": {},
          "execution_count": 8
        }
      ],
      "source": [
        "# Reading from a text file\n",
        "with open(\"example.txt\", \"r\") as f:\n",
        "    contents = f.read()\n",
        "contents"
      ],
      "id": "8xi-s1oTOtNg"
    },
    {
      "cell_type": "markdown",
      "metadata": {
        "id": "yZtlftwaOtNg"
      },
      "source": [
        "✅ **Your Turn**: Write your name into a file called `me.txt`, then read it back and print the result."
      ],
      "id": "yZtlftwaOtNg"
    },
    {
      "cell_type": "code",
      "source": [
        "# writing to a text file\n",
        "with open(\"me.txt\", \"w\") as f:\n",
        "  f.write(\"Jadyn Dangerfield\")"
      ],
      "metadata": {
        "id": "Vhmsy8YgPpVd"
      },
      "id": "Vhmsy8YgPpVd",
      "execution_count": 10,
      "outputs": []
    },
    {
      "cell_type": "code",
      "source": [
        "with open(\"me.txt\", \"r\") as f:\n",
        "  contents = f.read()\n",
        "contents"
      ],
      "metadata": {
        "colab": {
          "base_uri": "https://localhost:8080/",
          "height": 35
        },
        "id": "9zy3JEmTPz4c",
        "outputId": "a42acb11-44e8-42bf-b983-2b5984c79eae"
      },
      "id": "9zy3JEmTPz4c",
      "execution_count": 11,
      "outputs": [
        {
          "output_type": "execute_result",
          "data": {
            "text/plain": [
              "'Jadyn Dangerfield'"
            ],
            "application/vnd.google.colaboratory.intrinsic+json": {
              "type": "string"
            }
          },
          "metadata": {},
          "execution_count": 11
        }
      ]
    },
    {
      "cell_type": "markdown",
      "metadata": {
        "id": "cDh46HvwOtNg"
      },
      "source": [
        "## 3. JSON Files"
      ],
      "id": "cDh46HvwOtNg"
    },
    {
      "cell_type": "code",
      "execution_count": 4,
      "metadata": {
        "colab": {
          "base_uri": "https://localhost:8080/"
        },
        "id": "lg-6vMeHOtNh",
        "outputId": "dcb6faa7-6479-406e-c9b0-e027e4fc1666"
      },
      "outputs": [
        {
          "output_type": "execute_result",
          "data": {
            "text/plain": [
              "{'name': 'Graylian', 'type': 'mascot', 'skills': ['howl', 'parrot talk']}"
            ]
          },
          "metadata": {},
          "execution_count": 4
        }
      ],
      "source": [
        "import json\n",
        "\n",
        "data = {\"name\": \"Graylian\", \"type\": \"mascot\", \"skills\": [\"howl\", \"parrot talk\"]}\n",
        "\n",
        "# Write JSON\n",
        "with open(\"data.json\", \"w\") as f:\n",
        "    json.dump(data, f)\n",
        "\n",
        "# Read JSON\n",
        "with open(\"data.json\", \"r\") as f:\n",
        "    loaded = json.load(f)\n",
        "loaded"
      ],
      "id": "lg-6vMeHOtNh"
    },
    {
      "cell_type": "markdown",
      "metadata": {
        "id": "JagIdWrEOtNh"
      },
      "source": [
        "✅ **Your Turn**: Create a dictionary with your name and 2-3 favorite courses. Save it to `courses.json`, then read it back."
      ],
      "id": "JagIdWrEOtNh"
    },
    {
      "cell_type": "code",
      "source": [
        "courses = {\"name\": \"Jadyn\", \"course1\": \"Data Science\", \"course2\": \"Advanced Programming Language Concepts\"}\n",
        "\n",
        "# write JSON\n",
        "with open(\"courses.json\", \"w\") as f:\n",
        "  json.dump(courses, f)\n",
        "\n",
        "# read JSON\n",
        "with open(\"courses.json\", \"r\") as f:\n",
        "  loads = json.load(f)\n",
        "loads"
      ],
      "metadata": {
        "colab": {
          "base_uri": "https://localhost:8080/"
        },
        "id": "k062xEbMP_Zr",
        "outputId": "e5b2322b-c49f-493c-da6c-413bf3b45f33"
      },
      "id": "k062xEbMP_Zr",
      "execution_count": 12,
      "outputs": [
        {
          "output_type": "execute_result",
          "data": {
            "text/plain": [
              "{'name': 'Jadyn',\n",
              " 'course1': 'Data Science',\n",
              " 'course2': 'Advanced Programming Language Concepts'}"
            ]
          },
          "metadata": {},
          "execution_count": 12
        }
      ]
    },
    {
      "cell_type": "markdown",
      "metadata": {
        "id": "FEjgaBKgOtNh"
      },
      "source": [
        "## 4. CSV Files"
      ],
      "id": "FEjgaBKgOtNh"
    },
    {
      "cell_type": "code",
      "execution_count": 14,
      "metadata": {
        "colab": {
          "base_uri": "https://localhost:8080/"
        },
        "id": "xCNG_00eOtNh",
        "outputId": "495c8efa-f08c-4de0-8ced-fe01c9bc0562"
      },
      "outputs": [
        {
          "output_type": "stream",
          "name": "stdout",
          "text": [
            "['Name', 'Score']\n",
            "['Alice', '90']\n",
            "['Bob', '85']\n"
          ]
        }
      ],
      "source": [
        "import csv\n",
        "\n",
        "# Writing CSV\n",
        "rows = [[\"Name\", \"Score\"], [\"Alice\", 90], [\"Bob\", 85]]\n",
        "with open(\"scores.csv\", \"w\", newline=\"\") as f:\n",
        "    writer = csv.writer(f)\n",
        "    writer.writerows(rows)\n",
        "\n",
        "# Reading CSV\n",
        "with open(\"scores.csv\", \"r\") as f:\n",
        "    reader = csv.reader(f)\n",
        "    for row in reader:\n",
        "        print(row)"
      ],
      "id": "xCNG_00eOtNh"
    },
    {
      "cell_type": "markdown",
      "metadata": {
        "id": "XpqTza6cOtNi"
      },
      "source": [
        "✅ **Your Turn**: Create a CSV with 3 rows of your own data (e.g., pets, grades, or hobbies). Read it back and display the rows."
      ],
      "id": "XpqTza6cOtNi"
    },
    {
      "cell_type": "code",
      "source": [
        "# writing CSV\n",
        "my_rows = [[\"Name\", \"Group\", \"Age\"], [\"Jeon Jungkook\", \"BTS\", \"28\"], [\"Park Jimin\", \"BTS\", \"29\"], [\"Kim Taehyung\", \"BTS\", \"29\"]]\n",
        "\n",
        "with open(\"bts.csv\", \"w\", newline=\"\") as f:\n",
        "  writing = csv.writer(f)\n",
        "  writing.writerows(my_rows)\n",
        "\n",
        "# reading csv\n",
        "with open(\"bts.csv\", \"r\") as f:\n",
        "  reading = csv.reader(f)\n",
        "  for row in reading:\n",
        "    print(row)\n"
      ],
      "metadata": {
        "colab": {
          "base_uri": "https://localhost:8080/"
        },
        "id": "srkOaPweQ2EM",
        "outputId": "1f8a02a7-abf8-4303-8a26-30d744fc95e4"
      },
      "id": "srkOaPweQ2EM",
      "execution_count": 15,
      "outputs": [
        {
          "output_type": "stream",
          "name": "stdout",
          "text": [
            "['Name', 'Group', 'Age']\n",
            "['Jeon Jungkook', 'BTS', '28']\n",
            "['Park Jimin', 'BTS', '29']\n",
            "['Kim Taehyung', 'BTS', '29']\n"
          ]
        }
      ]
    },
    {
      "cell_type": "markdown",
      "metadata": {
        "id": "ohxvOJb8OtNi"
      },
      "source": [
        "---\n",
        "### Summary\n",
        "- `%pwd`, `%ls`, `%cd` show you where you are in the filesystem.\n",
        "- Use `with open(...)` to safely read/write files.\n",
        "- JSON is for structured data (key/value).\n",
        "- CSV is for tabular data (rows/columns).\n",
        "- Managing files is step 1 in any real data science project.\n"
      ],
      "id": "ohxvOJb8OtNi"
    }
  ],
  "metadata": {
    "kernelspec": {
      "display_name": "Python 3",
      "language": "python",
      "name": "python3"
    },
    "language_info": {
      "name": "python",
      "version": "3.x"
    },
    "colab": {
      "provenance": []
    }
  },
  "nbformat": 4,
  "nbformat_minor": 5
}
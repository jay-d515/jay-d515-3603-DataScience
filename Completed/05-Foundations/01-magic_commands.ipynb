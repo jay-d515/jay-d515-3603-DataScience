{
  "cells": [
    {
      "cell_type": "markdown",
      "metadata": {
        "id": "uTACqfvmJjHX"
      },
      "source": [
        "# 🧙 Magic Commands Demo Notebook\n",
        "\n",
        "This notebook introduces some of the most useful **IPython magic commands** in Jupyter.  \n",
        "Run each cell and see what happens!"
      ],
      "id": "uTACqfvmJjHX"
    },
    {
      "cell_type": "markdown",
      "metadata": {
        "id": "RkBX1kDBJjHa"
      },
      "source": [
        "## 1. Timing and Performance"
      ],
      "id": "RkBX1kDBJjHa"
    },
    {
      "cell_type": "code",
      "execution_count": 3,
      "metadata": {
        "id": "VoC6vyeXJjHb",
        "outputId": "21c6c8ac-fb13-4f0a-cb54-7d3e388b34e1",
        "colab": {
          "base_uri": "https://localhost:8080/"
        }
      },
      "outputs": [
        {
          "output_type": "stream",
          "name": "stdout",
          "text": [
            "CPU times: user 12.4 ms, sys: 35 µs, total: 12.4 ms\n",
            "Wall time: 12.3 ms\n"
          ]
        },
        {
          "output_type": "execute_result",
          "data": {
            "text/plain": [
              "499999500000"
            ]
          },
          "metadata": {},
          "execution_count": 3
        }
      ],
      "source": [
        "%time sum(range(1_000_000))"
      ],
      "id": "VoC6vyeXJjHb"
    },
    {
      "cell_type": "code",
      "execution_count": 4,
      "metadata": {
        "id": "q0Htll2QJjHc",
        "outputId": "f85028ef-e5a3-40c2-c472-a18a71971689",
        "colab": {
          "base_uri": "https://localhost:8080/"
        }
      },
      "outputs": [
        {
          "output_type": "stream",
          "name": "stdout",
          "text": [
            "12.1 ms ± 2.03 ms per loop (mean ± std. dev. of 7 runs, 100 loops each)\n"
          ]
        }
      ],
      "source": [
        "%timeit sum(range(1_000_000))"
      ],
      "id": "q0Htll2QJjHc"
    },
    {
      "cell_type": "code",
      "execution_count": 5,
      "metadata": {
        "id": "X3rpqbaOJjHd",
        "outputId": "bffe4ac0-7bd6-4079-f37a-53043af4d128",
        "colab": {
          "base_uri": "https://localhost:8080/"
        }
      },
      "outputs": [
        {
          "output_type": "stream",
          "name": "stdout",
          "text": [
            "CPU times: user 81.5 ms, sys: 986 µs, total: 82.5 ms\n",
            "Wall time: 82.5 ms\n"
          ]
        }
      ],
      "source": [
        "%%time\n",
        "total = 0\n",
        "for i in range(1_000_000):\n",
        "    total += i"
      ],
      "id": "X3rpqbaOJjHd"
    },
    {
      "cell_type": "markdown",
      "metadata": {
        "id": "xvPIZTbgJjHd"
      },
      "source": [
        "## 2. Working with Files"
      ],
      "id": "xvPIZTbgJjHd"
    },
    {
      "cell_type": "code",
      "execution_count": 7,
      "metadata": {
        "id": "-mdFDRt6JjHe",
        "outputId": "6e241ecc-bd44-4c30-ee98-26ee633f34d9",
        "colab": {
          "base_uri": "https://localhost:8080/",
          "height": 35
        }
      },
      "outputs": [
        {
          "output_type": "execute_result",
          "data": {
            "text/plain": [
              "'/content'"
            ],
            "application/vnd.google.colaboratory.intrinsic+json": {
              "type": "string"
            }
          },
          "metadata": {},
          "execution_count": 7
        }
      ],
      "source": [
        "%pwd"
      ],
      "id": "-mdFDRt6JjHe"
    },
    {
      "cell_type": "code",
      "execution_count": 8,
      "metadata": {
        "id": "2NmPi1g5JjHe",
        "outputId": "1c08df98-9485-48ea-a706-dd9b29c3c394",
        "colab": {
          "base_uri": "https://localhost:8080/"
        }
      },
      "outputs": [
        {
          "output_type": "stream",
          "name": "stdout",
          "text": [
            "\u001b[0m\u001b[01;34msample_data\u001b[0m/\n"
          ]
        }
      ],
      "source": [
        "%ls"
      ],
      "id": "2NmPi1g5JjHe"
    },
    {
      "cell_type": "code",
      "execution_count": 9,
      "metadata": {
        "id": "xME6-hosJjHf",
        "outputId": "fa85563d-0cdd-4cd1-872f-84f061671ae9",
        "colab": {
          "base_uri": "https://localhost:8080/",
          "height": 53
        }
      },
      "outputs": [
        {
          "output_type": "stream",
          "name": "stdout",
          "text": [
            "/\n"
          ]
        },
        {
          "output_type": "execute_result",
          "data": {
            "text/plain": [
              "'/'"
            ],
            "application/vnd.google.colaboratory.intrinsic+json": {
              "type": "string"
            }
          },
          "metadata": {},
          "execution_count": 9
        }
      ],
      "source": [
        "%cd ..\n",
        "%pwd"
      ],
      "id": "xME6-hosJjHf"
    },
    {
      "cell_type": "markdown",
      "metadata": {
        "id": "8BvMvnVtJjHf"
      },
      "source": [
        "## 3. Variables in Memory"
      ],
      "id": "8BvMvnVtJjHf"
    },
    {
      "cell_type": "code",
      "execution_count": 12,
      "metadata": {
        "id": "ldVnG-0gJjHg",
        "outputId": "7af7d983-0e09-4a88-fe7f-f0e0ee576dae",
        "colab": {
          "base_uri": "https://localhost:8080/"
        }
      },
      "outputs": [
        {
          "output_type": "stream",
          "name": "stdout",
          "text": [
            "a\t b\t c\t i\t total\t \n"
          ]
        }
      ],
      "source": [
        "a = 42\n",
        "b = [1, 2, 3]\n",
        "c = {\"name\": \"Graylian\"}\n",
        "\n",
        "%who"
      ],
      "id": "ldVnG-0gJjHg"
    },
    {
      "cell_type": "code",
      "execution_count": 13,
      "metadata": {
        "id": "H1dzBCOJJjHg",
        "outputId": "c8b9909c-0ca7-4527-9082-e95fda5f8b2f",
        "colab": {
          "base_uri": "https://localhost:8080/"
        }
      },
      "outputs": [
        {
          "output_type": "stream",
          "name": "stdout",
          "text": [
            "Variable   Type    Data/Info\n",
            "----------------------------\n",
            "a          int     42\n",
            "b          list    n=3\n",
            "c          dict    n=1\n",
            "i          int     999999\n",
            "total      int     499999500000\n"
          ]
        }
      ],
      "source": [
        "%whos"
      ],
      "id": "H1dzBCOJJjHg"
    },
    {
      "cell_type": "code",
      "execution_count": null,
      "metadata": {
        "id": "ElKJ2fr7JjHg"
      },
      "outputs": [],
      "source": [
        "# %reset"
      ],
      "id": "ElKJ2fr7JjHg"
    },
    {
      "cell_type": "markdown",
      "metadata": {
        "id": "4-8CgTP7JjHh"
      },
      "source": [
        "## 4. Debugging and Introspection"
      ],
      "id": "4-8CgTP7JjHh"
    },
    {
      "cell_type": "code",
      "execution_count": 14,
      "metadata": {
        "id": "taEP3dhHJjHh",
        "outputId": "15f183ce-4dc1-43e8-8e0e-2497bdf4311c",
        "colab": {
          "base_uri": "https://localhost:8080/",
          "height": 141
        }
      },
      "outputs": [
        {
          "output_type": "error",
          "ename": "ZeroDivisionError",
          "evalue": "division by zero",
          "traceback": [
            "\u001b[0;31m---------------------------------------------------------------------------\u001b[0m",
            "\u001b[0;31mZeroDivisionError\u001b[0m                         Traceback (most recent call last)",
            "\u001b[0;32m/tmp/ipython-input-1455669704.py\u001b[0m in \u001b[0;36m<cell line: 0>\u001b[0;34m()\u001b[0m\n\u001b[0;32m----> 1\u001b[0;31m \u001b[0;36m1\u001b[0m \u001b[0;34m/\u001b[0m \u001b[0;36m0\u001b[0m\u001b[0;34m\u001b[0m\u001b[0;34m\u001b[0m\u001b[0m\n\u001b[0m",
            "\u001b[0;31mZeroDivisionError\u001b[0m: division by zero"
          ]
        }
      ],
      "source": [
        "1 / 0"
      ],
      "id": "taEP3dhHJjHh"
    },
    {
      "cell_type": "code",
      "execution_count": 24,
      "metadata": {
        "id": "eFWye_oeJjHh",
        "outputId": "3a643f28-565c-4b7b-ac60-5b0bbc3b0468",
        "colab": {
          "base_uri": "https://localhost:8080/"
        }
      },
      "outputs": [
        {
          "output_type": "stream",
          "name": "stdout",
          "text": [
            "> \u001b[0;32m/tmp/ipython-input-1339094390.py\u001b[0m(3)\u001b[0;36m<cell line: 0>\u001b[0;34m()\u001b[0m\n",
            "\u001b[0;32m      1 \u001b[0;31m\u001b[0mprint\u001b[0m\u001b[0;34m(\u001b[0m\u001b[0;34m\"This will not display right away\"\u001b[0m\u001b[0;34m)\u001b[0m\u001b[0;34m\u001b[0m\u001b[0;34m\u001b[0m\u001b[0m\n",
            "\u001b[0m\u001b[0;32m      2 \u001b[0;31m\u001b[0;34m\u001b[0m\u001b[0m\n",
            "\u001b[0m\u001b[0;32m----> 3 \u001b[0;31m\u001b[0mcap\u001b[0m\u001b[0;34m.\u001b[0m\u001b[0mshow\u001b[0m\u001b[0;34m(\u001b[0m\u001b[0;34m)\u001b[0m\u001b[0;34m\u001b[0m\u001b[0;34m\u001b[0m\u001b[0m\n",
            "\u001b[0m\n",
            "ipdb> 1 / 0\n",
            "*** ZeroDivisionError: division by zero\n",
            "ipdb> 2 * 2\n",
            "4\n",
            "--KeyboardInterrupt--\n",
            "\n",
            "KeyboardInterrupt: Interrupted by user\n"
          ]
        }
      ],
      "source": [
        "%debug"
      ],
      "id": "eFWye_oeJjHh"
    },
    {
      "cell_type": "markdown",
      "metadata": {
        "id": "RauCLKTSJjHh"
      },
      "source": [
        "## 5. Writing and Running Files"
      ],
      "id": "RauCLKTSJjHh"
    },
    {
      "cell_type": "code",
      "execution_count": 22,
      "metadata": {
        "id": "nobYBTOKJjHh",
        "outputId": "8a918e83-6cc5-46b9-85ee-da220fadd289",
        "colab": {
          "base_uri": "https://localhost:8080/"
        }
      },
      "outputs": [
        {
          "output_type": "stream",
          "name": "stdout",
          "text": [
            "Overwriting hello.py\n"
          ]
        }
      ],
      "source": [
        "%%writefile hello.py\n",
        "print(\"Hello from a file!\")"
      ],
      "id": "nobYBTOKJjHh"
    },
    {
      "cell_type": "code",
      "execution_count": 23,
      "metadata": {
        "id": "kCzvd0nXJjHi",
        "outputId": "3c9239ed-1039-498b-d5e7-7b3f5408ee43",
        "colab": {
          "base_uri": "https://localhost:8080/"
        }
      },
      "outputs": [
        {
          "output_type": "stream",
          "name": "stdout",
          "text": [
            "Hello from a file!\n"
          ]
        }
      ],
      "source": [
        "%run hello.py"
      ],
      "id": "kCzvd0nXJjHi"
    },
    {
      "cell_type": "markdown",
      "metadata": {
        "id": "NiQw1lKMJjHi"
      },
      "source": [
        "## 6. Output and Formatting"
      ],
      "id": "NiQw1lKMJjHi"
    },
    {
      "cell_type": "code",
      "execution_count": 20,
      "metadata": {
        "id": "vb-C-TNaJjHi"
      },
      "outputs": [],
      "source": [
        "%%capture cap\n",
        "print(\"This will not display right away\")\n",
        "\n",
        "cap.show()"
      ],
      "id": "vb-C-TNaJjHi"
    },
    {
      "cell_type": "code",
      "execution_count": 17,
      "metadata": {
        "id": "usRxIJwFJjHi",
        "outputId": "8bd167b5-6929-4ae3-b98a-7376d61f6ebc",
        "colab": {
          "base_uri": "https://localhost:8080/",
          "height": 74
        }
      },
      "outputs": [
        {
          "output_type": "display_data",
          "data": {
            "text/plain": [
              "<IPython.core.display.HTML object>"
            ],
            "text/html": [
              "<h1 style=\"color: maroon\">Magics are Magical ✨</h1>\n"
            ]
          },
          "metadata": {}
        }
      ],
      "source": [
        "%%html\n",
        "<h1 style=\"color: maroon\">Magics are Magical ✨</h1>"
      ],
      "id": "usRxIJwFJjHi"
    },
    {
      "cell_type": "code",
      "execution_count": 16,
      "metadata": {
        "id": "WWgWAsOGJjHi",
        "outputId": "92f8278d-6168-4815-8212-1e8f7d874375",
        "colab": {
          "base_uri": "https://localhost:8080/",
          "height": 100
        }
      },
      "outputs": [
        {
          "output_type": "display_data",
          "data": {
            "text/plain": [
              "<IPython.core.display.Markdown object>"
            ],
            "text/markdown": "# This is a Markdown cell inside code!\n**Bold text** and *italic* still work.\n"
          },
          "metadata": {}
        }
      ],
      "source": [
        "%%markdown\n",
        "# This is a Markdown cell inside code!\n",
        "**Bold text** and *italic* still work."
      ],
      "id": "WWgWAsOGJjHi"
    },
    {
      "cell_type": "markdown",
      "metadata": {
        "id": "psKESjxxJjHj"
      },
      "source": [
        "## 7. Discover More"
      ],
      "id": "psKESjxxJjHj"
    },
    {
      "cell_type": "code",
      "execution_count": null,
      "metadata": {
        "id": "damaHoKPJjHj"
      },
      "outputs": [],
      "source": [
        "%lsmagic"
      ],
      "id": "damaHoKPJjHj"
    },
    {
      "cell_type": "code",
      "execution_count": null,
      "metadata": {
        "id": "HDahVQCaJjHj"
      },
      "outputs": [],
      "source": [
        "%timeit?"
      ],
      "id": "HDahVQCaJjHj"
    },
    {
      "cell_type": "markdown",
      "metadata": {
        "id": "JcrXiU1UJjHj"
      },
      "source": [
        "✅ **Try It Yourself**:  \n",
        "- Use `%timeit` to compare a list comprehension `[x**2 for x in range(1000)]` vs a generator `(x**2 for x in range(1000))`.  \n",
        "- Use `%whos` after defining some variables to see their types.  \n",
        "- Use `%%html` to make your own banner."
      ],
      "id": "JcrXiU1UJjHj"
    },
    {
      "cell_type": "code",
      "source": [
        "# uses %timeit to compare a list comprehension [x**2 for x in range(1000)] vs. a generator (x**2 for x in range(1000))\n",
        "%timeit [x**2 for x in range(1000)]\n",
        "\n",
        "%timeit (x**2 for x in range(1000))"
      ],
      "metadata": {
        "id": "g0XLvVGmKrjY",
        "outputId": "b0b92ef9-fae1-48d2-8377-3012fee32b33",
        "colab": {
          "base_uri": "https://localhost:8080/"
        }
      },
      "id": "g0XLvVGmKrjY",
      "execution_count": 25,
      "outputs": [
        {
          "output_type": "stream",
          "name": "stdout",
          "text": [
            "39.3 µs ± 562 ns per loop (mean ± std. dev. of 7 runs, 10000 loops each)\n",
            "172 ns ± 21.8 ns per loop (mean ± std. dev. of 7 runs, 10000000 loops each)\n"
          ]
        }
      ]
    },
    {
      "cell_type": "code",
      "source": [
        "name = \"Jadyn\"\n",
        "age = 21\n",
        "height = 67.2\n",
        "\n",
        "%whos"
      ],
      "metadata": {
        "id": "xvOET8bXLlO7",
        "outputId": "20d1233d-3727-49c0-faae-73f5b26f990f",
        "colab": {
          "base_uri": "https://localhost:8080/"
        }
      },
      "id": "xvOET8bXLlO7",
      "execution_count": 26,
      "outputs": [
        {
          "output_type": "stream",
          "name": "stdout",
          "text": [
            "Variable   Type          Data/Info\n",
            "----------------------------------\n",
            "a          int           42\n",
            "age        int           21\n",
            "b          list          n=3\n",
            "c          dict          n=1\n",
            "cap        CapturedIO    This will not display rig<...> not display right away\\n\n",
            "height     float         67.2\n",
            "i          int           999999\n",
            "name       str           Jadyn\n",
            "total      int           499999500000\n"
          ]
        }
      ]
    },
    {
      "cell_type": "code",
      "source": [
        "%%html\n",
        "\n",
        "<h1 style=\"color: white\">⭐ Jadyn Dangerfield ⭐</h1>\n",
        "<h3 style=\"color: gray\">Computer Science major with a minor in Mathematics</h3>"
      ],
      "metadata": {
        "id": "VmLRc7R3Ly5n",
        "outputId": "1f828124-abc5-40b3-fce0-f21f237ccf0b",
        "colab": {
          "base_uri": "https://localhost:8080/",
          "height": 111
        }
      },
      "id": "VmLRc7R3Ly5n",
      "execution_count": 32,
      "outputs": [
        {
          "output_type": "display_data",
          "data": {
            "text/plain": [
              "<IPython.core.display.HTML object>"
            ],
            "text/html": [
              "\n",
              "<h1 style=\"color: white\">⭐ Jadyn Dangerfield ⭐</h1>\n",
              "<h3 style=\"color: gray\">Computer Science major with a minor in Mathematics</h3>\n"
            ]
          },
          "metadata": {}
        }
      ]
    }
  ],
  "metadata": {
    "kernelspec": {
      "display_name": "env",
      "language": "python",
      "name": "python3"
    },
    "language_info": {
      "codemirror_mode": {
        "name": "ipython",
        "version": 3
      },
      "file_extension": ".py",
      "mimetype": "text/x-python",
      "name": "python",
      "nbconvert_exporter": "python",
      "pygments_lexer": "ipython3",
      "version": "3.13.7"
    },
    "colab": {
      "provenance": []
    }
  },
  "nbformat": 4,
  "nbformat_minor": 5
}
{
  "cells": [
    {
      "cell_type": "markdown",
      "id": "c224876d",
      "metadata": {
        "id": "c224876d"
      },
      "source": [
        "# 📘 01 - Scalar Types\n",
        "\n",
        "Review and practice working with Python's basic scalar data types."
      ]
    },
    {
      "cell_type": "markdown",
      "id": "39c1942a",
      "metadata": {
        "id": "39c1942a"
      },
      "source": [
        "## ✅ Learning Goals\n",
        "- Recognize scalar types (`int`, `float`, `str`, `bool`)\n",
        "- Use the `type()` function to identify types\n",
        "- Use variables and assignment"
      ]
    },
    {
      "cell_type": "code",
      "execution_count": 1,
      "id": "0cf15b63",
      "metadata": {
        "id": "0cf15b63"
      },
      "outputs": [],
      "source": [
        "# 🔧 Define some variables\n",
        "num = 42\n",
        "pi = 3.14159\n",
        "name = 'Python'\n",
        "is_cool = True"
      ]
    },
    {
      "cell_type": "code",
      "execution_count": 2,
      "id": "7c8e8452",
      "metadata": {
        "id": "7c8e8452",
        "outputId": "0f43c211-b6d5-48f4-97cc-1f529574aeec",
        "colab": {
          "base_uri": "https://localhost:8080/"
        }
      },
      "outputs": [
        {
          "output_type": "stream",
          "name": "stdout",
          "text": [
            "<class 'int'>\n",
            "<class 'float'>\n",
            "<class 'str'>\n",
            "<class 'bool'>\n"
          ]
        }
      ],
      "source": [
        "# 🔍 Check their types\n",
        "print(type(num))\n",
        "print(type(pi))\n",
        "print(type(name))\n",
        "print(type(is_cool))"
      ]
    },
    {
      "cell_type": "markdown",
      "id": "2c345a8b",
      "metadata": {
        "id": "2c345a8b"
      },
      "source": [
        "### ✏️ Your Turn\n",
        "Create your own variables of each type and print them."
      ]
    },
    {
      "cell_type": "markdown",
      "source": [
        "\n",
        "\n",
        "```\n",
        "# Name: Jadyn Dangerfield\n",
        "# Assignment: 01-Scalar Types\n",
        "# Description:\n",
        "\n",
        "# This code creates variables of each type and prints them.\n",
        "```\n",
        "\n"
      ],
      "metadata": {
        "id": "DioySgto_DZj"
      },
      "id": "DioySgto_DZj"
    },
    {
      "cell_type": "code",
      "execution_count": 5,
      "id": "038b4f44",
      "metadata": {
        "id": "038b4f44",
        "outputId": "7db13ff2-cfb8-458b-88a8-5202eceadc98",
        "colab": {
          "base_uri": "https://localhost:8080/"
        }
      },
      "outputs": [
        {
          "output_type": "stream",
          "name": "stdout",
          "text": [
            "<class 'int'>\n",
            "I am 21 years old.\n",
            "<class 'float'>\n",
            "I am 67.5 inches tall\n",
            "<class 'str'>\n",
            "My name is Jadyn\n",
            "<class 'bool'>\n",
            "Is Jadyn a student? True\n"
          ]
        }
      ],
      "source": [
        "age = 21\n",
        "height = 67.5\n",
        "name = 'Jadyn'\n",
        "is_student = True\n",
        "\n",
        "print(type(age))\n",
        "print('I am', age, 'years old.')\n",
        "print(type(height))\n",
        "print('I am', height, 'inches tall')\n",
        "print(type(name))\n",
        "print('My name is', name)\n",
        "print(type(is_student))\n",
        "print('Is', name, 'a student?', is_student)"
      ]
    },
    {
      "cell_type": "markdown",
      "id": "f02be606",
      "metadata": {
        "id": "f02be606"
      },
      "source": [
        "## ⚖️ Comparison Practice\n",
        "Use comparison operators to check values."
      ]
    },
    {
      "cell_type": "code",
      "execution_count": 2,
      "id": "9bf84dc7",
      "metadata": {
        "id": "9bf84dc7",
        "outputId": "fc14bb7b-c715-43dd-bd2f-284e2435364e",
        "colab": {
          "base_uri": "https://localhost:8080/"
        }
      },
      "outputs": [
        {
          "output_type": "stream",
          "name": "stdout",
          "text": [
            "True\n",
            "False\n",
            "True\n"
          ]
        }
      ],
      "source": [
        "x = 10\n",
        "y = 5\n",
        "print(x > y)\n",
        "print(x == y)\n",
        "print(x != y)"
      ]
    },
    {
      "cell_type": "markdown",
      "id": "789b6f3d",
      "metadata": {
        "id": "789b6f3d"
      },
      "source": [
        "## 🧠 Quick Check\n",
        "What will the following print?\n",
        "```python\n",
        "print(3.0 == 3)\n",
        "```"
      ]
    },
    {
      "cell_type": "markdown",
      "source": [
        "\n",
        "\n",
        "```\n",
        "# The statement above will print True\n",
        "```\n",
        "\n"
      ],
      "metadata": {
        "id": "6eKQX8b4-QtO"
      },
      "id": "6eKQX8b4-QtO"
    }
  ],
  "metadata": {
    "colab": {
      "provenance": []
    },
    "language_info": {
      "name": "python"
    },
    "kernelspec": {
      "name": "python3",
      "display_name": "Python 3"
    }
  },
  "nbformat": 4,
  "nbformat_minor": 5
}
{
  "cells": [
    {
      "cell_type": "markdown",
      "id": "d691fc24",
      "metadata": {
        "id": "d691fc24"
      },
      "source": [
        "# 📘 02 - Control Flow\n",
        "\n",
        "Learn how to use conditional logic in Python."
      ]
    },
    {
      "cell_type": "markdown",
      "id": "07e43ba3",
      "metadata": {
        "id": "07e43ba3"
      },
      "source": [
        "## ✅ Learning Goals\n",
        "- Write `if`, `elif`, `else` statements\n",
        "- Understand truthy/falsy values\n",
        "- Combine conditions using `and`, `or`, `not`"
      ]
    },
    {
      "cell_type": "code",
      "execution_count": null,
      "id": "3c8cac6d",
      "metadata": {
        "id": "3c8cac6d",
        "outputId": "1fd7554a-993d-4a69-e310-701290901bbe",
        "colab": {
          "base_uri": "https://localhost:8080/"
        }
      },
      "outputs": [
        {
          "output_type": "stream",
          "name": "stdout",
          "text": [
            "You are an adult.\n"
          ]
        }
      ],
      "source": [
        "# 🔧 Basic example\n",
        "age = 20\n",
        "if age >= 18:\n",
        "    print('You are an adult.')\n",
        "else:\n",
        "    print('You are a minor.')"
      ]
    },
    {
      "cell_type": "markdown",
      "id": "ae0d2437",
      "metadata": {
        "id": "ae0d2437"
      },
      "source": [
        "## 🔀 Multiple Branches"
      ]
    },
    {
      "cell_type": "code",
      "execution_count": null,
      "id": "e2527038",
      "metadata": {
        "id": "e2527038",
        "outputId": "fa3b950f-5eaa-4755-d77f-cbf7b3421b5e",
        "colab": {
          "base_uri": "https://localhost:8080/"
        }
      },
      "outputs": [
        {
          "output_type": "stream",
          "name": "stdout",
          "text": [
            "Just right.\n"
          ]
        }
      ],
      "source": [
        "temp = 72\n",
        "if temp > 90:\n",
        "    print('Too hot!')\n",
        "elif temp < 60:\n",
        "    print('Too cold!')\n",
        "else:\n",
        "    print('Just right.')"
      ]
    },
    {
      "cell_type": "markdown",
      "id": "b2aa7088",
      "metadata": {
        "id": "b2aa7088"
      },
      "source": [
        "### ✏️ Your Turn\n",
        "Use `input()` to ask a user their grade and print a message based on value."
      ]
    },
    {
      "cell_type": "markdown",
      "source": [
        "```\n",
        "# Name: Jadyn Dangerfield\n",
        "# Assignment: 02-Control Flow\n",
        "# Description:\n",
        "\n",
        "# This code asks the user to input their grade, then prints the equivalent letter grade.\n",
        "```\n",
        "\n"
      ],
      "metadata": {
        "id": "fsMN7hLIeCkh"
      },
      "id": "fsMN7hLIeCkh"
    },
    {
      "cell_type": "code",
      "execution_count": null,
      "id": "f096a974",
      "metadata": {
        "id": "f096a974",
        "outputId": "898bbd2d-e8d1-4ae5-95a9-23b9b87e00df",
        "colab": {
          "base_uri": "https://localhost:8080/"
        }
      },
      "outputs": [
        {
          "output_type": "stream",
          "name": "stdout",
          "text": [
            "Enter your score: 55\n",
            "F\n"
          ]
        }
      ],
      "source": [
        "# Example:\n",
        "grade = int(input('Enter your score: '))\n",
        "if grade >= 90 and grade <= 100:\n",
        "  print('A')\n",
        "elif grade >= 80 and grade < 90:\n",
        "  print('B')\n",
        "elif grade >= 70 and grade < 80:\n",
        "  print('C')\n",
        "elif grade >= 60 and grade < 70:\n",
        "  print('D')\n",
        "elif grade < 60:\n",
        "  print('F')\n",
        "else:\n",
        "  print('Invalide grade')"
      ]
    }
  ],
  "metadata": {
    "colab": {
      "provenance": []
    },
    "language_info": {
      "name": "python"
    },
    "kernelspec": {
      "name": "python3",
      "display_name": "Python 3"
    }
  },
  "nbformat": 4,
  "nbformat_minor": 5
}
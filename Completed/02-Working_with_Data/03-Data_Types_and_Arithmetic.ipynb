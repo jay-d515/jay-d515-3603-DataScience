{
  "cells": [
    {
      "cell_type": "markdown",
      "id": "4b15b08b",
      "metadata": {
        "id": "4b15b08b"
      },
      "source": [
        "# 📘 03 - Data Types and Arithmetic\n",
        "\n",
        "Explore Python basics like variables, data types, and arithmetic operations."
      ]
    },
    {
      "cell_type": "markdown",
      "id": "fe930277",
      "metadata": {
        "id": "fe930277"
      },
      "source": [
        "## ✅ Learning Goals\n",
        "- Understand Python data types\n",
        "- Use variables and print statements\n",
        "- Perform basic arithmetic"
      ]
    },
    {
      "cell_type": "code",
      "execution_count": 3,
      "id": "8e873f5b",
      "metadata": {
        "id": "8e873f5b",
        "outputId": "14708d14-d7e7-4386-a7d7-bd702243534a",
        "colab": {
          "base_uri": "https://localhost:8080/"
        }
      },
      "outputs": [
        {
          "output_type": "stream",
          "name": "stdout",
          "text": [
            "<class 'int'> <class 'float'> <class 'str'>\n"
          ]
        }
      ],
      "source": [
        "# 🧠 Variables and Types\n",
        "x = 10\n",
        "y = 3.5\n",
        "z = 'hello'\n",
        "print(type(x), type(y), type(z))"
      ]
    },
    {
      "cell_type": "code",
      "execution_count": 4,
      "id": "e90e2be4",
      "metadata": {
        "id": "e90e2be4",
        "outputId": "e5f9feb5-ef7e-472d-f707-04b91b6de43d",
        "colab": {
          "base_uri": "https://localhost:8080/"
        }
      },
      "outputs": [
        {
          "output_type": "stream",
          "name": "stdout",
          "text": [
            "Add: 13.5\n",
            "Divide: 2.857142857142857\n",
            "Floor Divide: 2.0\n",
            "Exponent: 100\n"
          ]
        }
      ],
      "source": [
        "# ➕ Arithmetic Operations\n",
        "print('Add:', x + y)\n",
        "print('Divide:', x / y)\n",
        "print('Floor Divide:', x // y)\n",
        "print('Exponent:', x ** 2)"
      ]
    },
    {
      "cell_type": "markdown",
      "id": "7e233e07",
      "metadata": {
        "id": "7e233e07"
      },
      "source": [
        "## ✏️ Try It Yourself\n",
        "- Create your own variables\n",
        "- Try combining numbers and strings\n",
        "- Use `input()` to interact"
      ]
    },
    {
      "cell_type": "markdown",
      "source": [
        "\n",
        "\n",
        "```\n",
        "# Name: Jadyn Dangerfield\n",
        "# Assignment: 03-Data Types and Arithmetic\n",
        "# Description:\n",
        "\n",
        "# This code asks the user to input their name an age, then performs arithmetic.\n",
        "```\n",
        "\n"
      ],
      "metadata": {
        "id": "_d89G-kmA-Xl"
      },
      "id": "_d89G-kmA-Xl"
    },
    {
      "cell_type": "code",
      "execution_count": 14,
      "id": "42b3fc61",
      "metadata": {
        "id": "42b3fc61",
        "outputId": "4046a843-3712-48f4-cc8d-e5f69225e8c4",
        "colab": {
          "base_uri": "https://localhost:8080/"
        }
      },
      "outputs": [
        {
          "output_type": "stream",
          "name": "stdout",
          "text": [
            "What is your name? Jadyn\n",
            "How old are you? 21\n",
            "Hi! My name is Jadyn and I am 21 years old.\n",
            "I was born in 2004 , and next year, I will be turning 22 !\n",
            "I am over 2 times my sister's age\n"
          ]
        }
      ],
      "source": [
        "# stores the user's name as a string\n",
        "name = input('What is your name? ')\n",
        "# stores the user's age as a string\n",
        "age = input('How old are you? ')\n",
        "# the current year\n",
        "year = 2025\n",
        "# type casts age into an int, and subtracts it from the current year\n",
        "birth_year = year - int(age)\n",
        "\n",
        "# prints the user's name and age\n",
        "print('Hi! My name is', name, 'and I am', age, 'years old.')\n",
        "# prints the user's birth year and age in 1 year\n",
        "print('I was born in', birth_year, ', and next year, I will be turning', int(age) + 1, '!')\n",
        "# compares me and my sister's age\n",
        "print('I am over', int(age) // 9, \"times my sister's age\")"
      ]
    },
    {
      "cell_type": "markdown",
      "id": "069d6eba",
      "metadata": {
        "id": "069d6eba"
      },
      "source": [
        "## 📤 Submit\n",
        "Make sure your name is at the top in a Markdown cell.\n",
        "Submit via D2L or Colab link."
      ]
    }
  ],
  "metadata": {
    "colab": {
      "provenance": []
    },
    "language_info": {
      "name": "python"
    },
    "kernelspec": {
      "name": "python3",
      "display_name": "Python 3"
    }
  },
  "nbformat": 4,
  "nbformat_minor": 5
}
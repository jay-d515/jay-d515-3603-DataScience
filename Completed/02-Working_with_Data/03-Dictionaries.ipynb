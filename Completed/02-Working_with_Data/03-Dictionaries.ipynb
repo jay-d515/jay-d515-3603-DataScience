{
  "cells": [
    {
      "cell_type": "markdown",
      "id": "ba110f51",
      "metadata": {
        "id": "ba110f51"
      },
      "source": [
        "# 📘 03 - Python Dictionaries\n",
        "\n",
        "Dictionaries store key-value pairs for fast lookups."
      ]
    },
    {
      "cell_type": "markdown",
      "id": "32ad5c23",
      "metadata": {
        "id": "32ad5c23"
      },
      "source": [
        "## ✅ Learning Goals\n",
        "- Create and access dictionary items\n",
        "- Use dictionary methods like `.get()` and `.items()`"
      ]
    },
    {
      "cell_type": "code",
      "execution_count": 1,
      "id": "d69a5483",
      "metadata": {
        "id": "d69a5483",
        "outputId": "71e3087b-6ec5-411c-fc1b-37e87baa94f9",
        "colab": {
          "base_uri": "https://localhost:8080/"
        }
      },
      "outputs": [
        {
          "output_type": "stream",
          "name": "stdout",
          "text": [
            "{'name': 'Alex', 'age': 21, 'major': 'CS'}\n"
          ]
        }
      ],
      "source": [
        "# 📚 Create a Dictionary\n",
        "student = {'name': 'Alex', 'age': 21, 'major': 'CS'}\n",
        "print(student)"
      ]
    },
    {
      "cell_type": "code",
      "execution_count": 2,
      "id": "c014213d",
      "metadata": {
        "id": "c014213d",
        "outputId": "5349779d-6241-477c-ec59-5d9945f11bfe",
        "colab": {
          "base_uri": "https://localhost:8080/"
        }
      },
      "outputs": [
        {
          "output_type": "stream",
          "name": "stdout",
          "text": [
            "Alex\n",
            "N/A\n"
          ]
        }
      ],
      "source": [
        "# 🔍 Access Values\n",
        "print(student['name'])\n",
        "print(student.get('gpa', 'N/A'))"
      ]
    },
    {
      "cell_type": "code",
      "execution_count": 3,
      "id": "f80fb0b2",
      "metadata": {
        "id": "f80fb0b2",
        "outputId": "097e2565-42a7-4041-9d4f-d7fdc5025fd0",
        "colab": {
          "base_uri": "https://localhost:8080/"
        }
      },
      "outputs": [
        {
          "output_type": "stream",
          "name": "stdout",
          "text": [
            "name -> Alex\n",
            "age -> 21\n",
            "major -> CS\n"
          ]
        }
      ],
      "source": [
        "# 🔁 Loop Over Dictionary\n",
        "for key, value in student.items():\n",
        "    print(key, '->', value)"
      ]
    },
    {
      "cell_type": "markdown",
      "id": "aa0e1c66",
      "metadata": {
        "id": "aa0e1c66"
      },
      "source": [
        "## ✏️ Your Turn\n",
        "Create a dictionary to store information about your favorite book."
      ]
    },
    {
      "cell_type": "markdown",
      "source": [
        "\n",
        "\n",
        "```\n",
        "# Name: Jadyn Dangerfield\n",
        "# Assignment: 03-Dictionaries\n",
        "# Description:\n",
        "\n",
        "# This code creates a dictioary that stores information about my favorite book. It then utilizes to functions to print the information: get() and items()\n",
        "```\n",
        "\n"
      ],
      "metadata": {
        "id": "AKIJ7CwwFlVY"
      },
      "id": "AKIJ7CwwFlVY"
    },
    {
      "cell_type": "code",
      "source": [
        "# creates a dictionary to store information about my favorite book\n",
        "book = {'title': 'Heroes of Olympus: The Blood of Olympus', 'author': 'Rick Riordan', 'genre': 'Fantasy, Mythology','release_year': 2014 }\n",
        "\n",
        "# loops over the dictionary and prints the keys and their values\n",
        "for key, value in book.items():\n",
        "  print(key, '->', value)\n",
        "\n",
        "# prints the information about the book using the get method\n",
        "print('\\nWhat is the title of your favorite book?', book.get('title'))\n",
        "print('Who is the author?', book.get('author'))\n",
        "print('What is the genere?', book.get('genre'))\n",
        "print('When did it release?', book.get('release_year'))"
      ],
      "metadata": {
        "id": "qoOdTzymC4KM",
        "outputId": "eb5ccead-dd1b-43f7-fdd4-ce74360b99f7",
        "colab": {
          "base_uri": "https://localhost:8080/"
        }
      },
      "id": "qoOdTzymC4KM",
      "execution_count": 10,
      "outputs": [
        {
          "output_type": "stream",
          "name": "stdout",
          "text": [
            "title -> Heroes of Olympus: The Blood of Olympus\n",
            "author -> Rick Riordan\n",
            "genre -> Fantasy, Mythology\n",
            "release_year -> 2014\n",
            "\n",
            "What is the title of your favorite book? Heroes of Olympus: The Blood of Olympus\n",
            "Who is the author? Rick Riordan\n",
            "What is the genere? Fantasy, Mythology\n",
            "When did it release? 2014\n"
          ]
        }
      ]
    }
  ],
  "metadata": {
    "colab": {
      "provenance": []
    },
    "language_info": {
      "name": "python"
    },
    "kernelspec": {
      "name": "python3",
      "display_name": "Python 3"
    }
  },
  "nbformat": 4,
  "nbformat_minor": 5
}
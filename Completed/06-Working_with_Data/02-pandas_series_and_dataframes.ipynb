{
  "cells": [
    {
      "cell_type": "markdown",
      "source": [
        "\n",
        "\n",
        "```\n",
        "# Jadyn Dangerfield\n",
        "# Assignment: 02 Pandas Series and DataFrames\n",
        "```\n",
        "\n"
      ],
      "metadata": {
        "id": "_d8O5_4AAMlP"
      }
    },
    {
      "cell_type": "markdown",
      "metadata": {
        "id": "PKcMbu3T3kNy"
      },
      "source": [
        "# 🐼 Notebook 02: Pandas Series and DataFrames\n",
        "\n",
        "Congratulations. You've graduated from lists and dictionaries — it’s time to wield a more powerful tool: **Pandas**.\n",
        "\n",
        "This notebook introduces you to the two most essential data structures in data science:\n",
        "\n",
        "- `Series`: a one-dimensional labeled array (like a dictionary and list had a well-organized child)\n",
        "- `DataFrame`: a two-dimensional table with labeled axes (basically Excel’s smarter cousin)\n",
        "\n",
        "---"
      ]
    },
    {
      "cell_type": "code",
      "execution_count": null,
      "metadata": {
        "id": "Mp6G6mxK3kOD"
      },
      "outputs": [],
      "source": [
        "import pandas as pd"
      ]
    },
    {
      "cell_type": "markdown",
      "metadata": {
        "id": "E5s2NSZo3kOK"
      },
      "source": [
        "## 🔢 Series from a List\n",
        "Simple but powerful — labels give it superpowers."
      ]
    },
    {
      "cell_type": "code",
      "execution_count": null,
      "metadata": {
        "id": "esnQhC6l3kON",
        "outputId": "ff046bd1-c8c0-41f7-effa-7517e73570a9",
        "colab": {
          "base_uri": "https://localhost:8080/"
        }
      },
      "outputs": [
        {
          "output_type": "stream",
          "name": "stdout",
          "text": [
            "Grocery Prices:\n",
            "Apple    2.99\n",
            "Milk     4.49\n",
            "Bread    1.99\n",
            "dtype: float64\n",
            "\n",
            "Price of Milk: 4.49\n"
          ]
        }
      ],
      "source": [
        "# A Series from a list — just like a list, but fancier and labeled\n",
        "prices = pd.Series([2.99, 4.49, 1.99], index=[\"Apple\", \"Milk\", \"Bread\"])\n",
        "print(\"Grocery Prices:\")\n",
        "print(prices)\n",
        "\n",
        "# Accessing elements like a dictionary\n",
        "print(\"\\nPrice of Milk:\", prices[\"Milk\"])"
      ]
    },
    {
      "cell_type": "markdown",
      "metadata": {
        "id": "lBOxPpbo3kOQ"
      },
      "source": [
        "## 🗺️ Series from a Dictionary\n",
        "Keys become the index — pretty intuitive, right?"
      ]
    },
    {
      "cell_type": "code",
      "execution_count": null,
      "metadata": {
        "id": "JRR4dn1L3kOT",
        "outputId": "113b4bea-1fe0-4c5f-8654-be970d7937be",
        "colab": {
          "base_uri": "https://localhost:8080/"
        }
      },
      "outputs": [
        {
          "output_type": "stream",
          "name": "stdout",
          "text": [
            "State Populations:\n",
            "Texas         29000000\n",
            "California    39000000\n",
            "New York      19000000\n",
            "dtype: int64\n",
            "\n",
            "Population in millions:\n",
            "Texas         29.0\n",
            "California    39.0\n",
            "New York      19.0\n",
            "dtype: float64\n"
          ]
        }
      ],
      "source": [
        "population = {\n",
        "    \"Texas\": 29_000_000,\n",
        "    \"California\": 39_000_000,\n",
        "    \"New York\": 19_000_000\n",
        "}\n",
        "\n",
        "state_pop = pd.Series(population)\n",
        "print(\"State Populations:\")\n",
        "print(state_pop)\n",
        "\n",
        "# Series support math!\n",
        "print(\"\\nPopulation in millions:\")\n",
        "print(state_pop / 1_000_000)"
      ]
    },
    {
      "cell_type": "markdown",
      "metadata": {
        "id": "-QrrOSv43kOU"
      },
      "source": [
        "## 📋 Creating a DataFrame\n",
        "Like a spreadsheet, but you control the universe."
      ]
    },
    {
      "cell_type": "code",
      "execution_count": null,
      "metadata": {
        "id": "ji6oqkns3kOW",
        "outputId": "3d19ff51-b2b8-42f6-c895-585bafb5f571",
        "colab": {
          "base_uri": "https://localhost:8080/"
        }
      },
      "outputs": [
        {
          "output_type": "stream",
          "name": "stdout",
          "text": [
            "Student DataFrame:\n",
            "      Name  GPA  Credits  Graduating\n",
            "0    Alice  3.9       90       False\n",
            "1      Bob  2.7       45       False\n",
            "2  Charlie  3.4       60       False\n",
            "3    Diana  3.8      120        True\n"
          ]
        }
      ],
      "source": [
        "# Creating a DataFrame — the bread and butter of Pandas\n",
        "data = {\n",
        "    \"Name\": [\"Alice\", \"Bob\", \"Charlie\", \"Diana\"],\n",
        "    \"GPA\": [3.9, 2.7, 3.4, 3.8],\n",
        "    \"Credits\": [90, 45, 60, 120],\n",
        "    \"Graduating\": [False, False, False, True]\n",
        "}\n",
        "\n",
        "students = pd.DataFrame(data)\n",
        "print(\"Student DataFrame:\")\n",
        "print(students)"
      ]
    },
    {
      "cell_type": "markdown",
      "metadata": {
        "id": "POTqe5Hy3kOZ"
      },
      "source": [
        "## 🎯 Column Access + Row Access"
      ]
    },
    {
      "cell_type": "code",
      "execution_count": null,
      "metadata": {
        "id": "HrDMqyT93kOa",
        "outputId": "188ffd96-3991-4a61-ac34-95a25a83b5b9",
        "colab": {
          "base_uri": "https://localhost:8080/"
        }
      },
      "outputs": [
        {
          "output_type": "stream",
          "name": "stdout",
          "text": [
            "\n",
            "GPA column:\n",
            "0    3.9\n",
            "1    2.7\n",
            "2    3.4\n",
            "3    3.8\n",
            "Name: GPA, dtype: float64\n",
            "\n",
            "Charlie's record:\n",
            "Name          Charlie\n",
            "GPA               3.4\n",
            "Credits            60\n",
            "Graduating      False\n",
            "Name: 2, dtype: object\n"
          ]
        }
      ],
      "source": [
        "# Access a column\n",
        "print(\"\\nGPA column:\")\n",
        "print(students[\"GPA\"])\n",
        "\n",
        "# Access a row\n",
        "print(\"\\nCharlie's record:\")\n",
        "print(students.loc[2])"
      ]
    },
    {
      "cell_type": "markdown",
      "metadata": {
        "id": "eW0m-C7l3kOb"
      },
      "source": [
        "## 🧪 Inspect the DataFrame"
      ]
    },
    {
      "cell_type": "code",
      "execution_count": null,
      "metadata": {
        "id": "4CXDbG8D3kOc",
        "outputId": "2f31905f-4baa-4b49-957a-d10e1e5435df",
        "colab": {
          "base_uri": "https://localhost:8080/"
        }
      },
      "outputs": [
        {
          "output_type": "stream",
          "name": "stdout",
          "text": [
            "\n",
            "Shape: (4, 4)\n",
            "\n",
            "Columns: ['Name', 'GPA', 'Credits', 'Graduating']\n",
            "\n",
            "DataFrame Info:\n",
            "<class 'pandas.core.frame.DataFrame'>\n",
            "RangeIndex: 4 entries, 0 to 3\n",
            "Data columns (total 4 columns):\n",
            " #   Column      Non-Null Count  Dtype  \n",
            "---  ------      --------------  -----  \n",
            " 0   Name        4 non-null      object \n",
            " 1   GPA         4 non-null      float64\n",
            " 2   Credits     4 non-null      int64  \n",
            " 3   Graduating  4 non-null      bool   \n",
            "dtypes: bool(1), float64(1), int64(1), object(1)\n",
            "memory usage: 232.0+ bytes\n",
            "None\n",
            "\n",
            "DataFrame Summary Stats:\n",
            "            GPA     Credits\n",
            "count  4.000000    4.000000\n",
            "mean   3.450000   78.750000\n",
            "std    0.544671   33.260337\n",
            "min    2.700000   45.000000\n",
            "25%    3.225000   56.250000\n",
            "50%    3.600000   75.000000\n",
            "75%    3.825000   97.500000\n",
            "max    3.900000  120.000000\n"
          ]
        }
      ],
      "source": [
        "# Shape and structure\n",
        "print(\"\\nShape:\", students.shape)\n",
        "print(\"\\nColumns:\", students.columns.tolist())\n",
        "\n",
        "# Info dump\n",
        "print(\"\\nDataFrame Info:\")\n",
        "print(students.info())\n",
        "\n",
        "# Stats summary\n",
        "print(\"\\nDataFrame Summary Stats:\")\n",
        "print(students.describe())"
      ]
    },
    {
      "cell_type": "markdown",
      "metadata": {
        "id": "xVDncIpG3kOd"
      },
      "source": [
        "## 🧼 Rename a Column"
      ]
    },
    {
      "cell_type": "code",
      "execution_count": null,
      "metadata": {
        "id": "2EHKZg8G3kOe",
        "outputId": "a23327c5-45fc-4850-a8ec-13b97d00f631",
        "colab": {
          "base_uri": "https://localhost:8080/"
        }
      },
      "outputs": [
        {
          "output_type": "stream",
          "name": "stdout",
          "text": [
            "\n",
            "Renamed column:\n",
            "      Name  GPA  Credits  Is_Graduating\n",
            "0    Alice  3.9       90          False\n",
            "1      Bob  2.7       45          False\n",
            "2  Charlie  3.4       60          False\n",
            "3    Diana  3.8      120           True\n"
          ]
        }
      ],
      "source": [
        "students.rename(columns={\"Graduating\": \"Is_Graduating\"}, inplace=True)\n",
        "print(\"\\nRenamed column:\")\n",
        "print(students.head())"
      ]
    },
    {
      "cell_type": "markdown",
      "metadata": {
        "id": "m0m8aWoe3kOe"
      },
      "source": [
        "---\n",
        "## 🔍 Your Turn\n",
        "\n",
        "1. Create a `Series` from a dictionary of state abbreviations to population (use fake or real data).\n",
        "2. Create a `DataFrame` for 5 students with columns: `Name`, `GPA`, `Credits`, `Graduating` (True/False).\n",
        "3. Try accessing a row using `.loc[]` and a column using bracket notation.\n",
        "4. Print the `.shape`, `.columns`, and `.info()` of your DataFrame.\n",
        "\n",
        "🎯 Bonus: Rename a column just to mess with the future grader."
      ]
    },
    {
      "cell_type": "code",
      "execution_count": null,
      "metadata": {
        "id": "jTZ4V8-r3kOf",
        "outputId": "c795c1a9-7f91-411a-91b7-6136dd2266bd",
        "colab": {
          "base_uri": "https://localhost:8080/"
        }
      },
      "outputs": [
        {
          "output_type": "stream",
          "name": "stdout",
          "text": [
            "State Population:\n",
            "TX    31290831\n",
            "LA     4507740\n",
            "NM     2130256\n",
            "KS     2970606\n",
            "PA    13078751\n",
            "dtype: int64\n"
          ]
        }
      ],
      "source": [
        "# Create a series from a dictionary of state abbreviations to population\n",
        "populations = {\n",
        "    \"TX\": 31_290_831,\n",
        "    \"LA\": 4_507_740,\n",
        "    \"NM\": 2_130_256,\n",
        "    \"KS\": 2_970_606,\n",
        "    \"PA\": 13_078_751\n",
        "}\n",
        "\n",
        "state_population = pd.Series(populations)\n",
        "\n",
        "print(\"State Population:\")\n",
        "print(state_population)"
      ]
    },
    {
      "cell_type": "code",
      "source": [
        "# Create a dataframe for 5 students with columns: Name, GPA, Credits, Graduating (True/False)\n",
        "student_info = {\n",
        "    \"Name\": [\"Jadyn\", \"Gracie\", \"Sophia\", \"Maggie\", \"Daiza\"],\n",
        "    \"GPA\": [3.25, 3.1, 4.0, 3.6, 3.8],\n",
        "    \"Credits\": [143, 28, 32, 16, 150],\n",
        "    \"is_Graduating\": [True, False, False, False, True]\n",
        "}\n",
        "\n",
        "student_df = pd.DataFrame(student_info)\n",
        "\n",
        "print(\"Student DataFrame:\")\n",
        "print(student_df)"
      ],
      "metadata": {
        "id": "U1bakW086c0y",
        "outputId": "0bf886ae-aac5-41c7-e33b-b454ce297b66",
        "colab": {
          "base_uri": "https://localhost:8080/"
        }
      },
      "execution_count": null,
      "outputs": [
        {
          "output_type": "stream",
          "name": "stdout",
          "text": [
            "Student DataFrame:\n",
            "     Name   GPA  Credits  is_Graduating\n",
            "0   Jadyn  3.25      143           True\n",
            "1  Gracie  3.10       28          False\n",
            "2  Sophia  4.00       32          False\n",
            "3  Maggie  3.60       16          False\n",
            "4   Daiza  3.80      150           True\n"
          ]
        }
      ]
    },
    {
      "cell_type": "code",
      "source": [
        "# Access a row using .loc[]\n",
        "print(\"\\nJadyn's Record:\")\n",
        "print(student_df.loc[0])\n",
        "# Access a column using bracket notation\n",
        "print(\"\\nSophia's GPA:\")\n",
        "print(student_df[\"GPA\"][2])"
      ],
      "metadata": {
        "id": "DhZy0HKt-aIn",
        "outputId": "1c71d8f0-715e-4c06-ab21-17f3d89d9ddd",
        "colab": {
          "base_uri": "https://localhost:8080/"
        }
      },
      "execution_count": null,
      "outputs": [
        {
          "output_type": "stream",
          "name": "stdout",
          "text": [
            "\n",
            "Jadyn's Record:\n",
            "Name             Jadyn\n",
            "GPA               3.25\n",
            "Credits            143\n",
            "is_Graduating     True\n",
            "Name: 0, dtype: object\n",
            "\n",
            "Sophia's GPA:\n",
            "4.0\n"
          ]
        }
      ]
    },
    {
      "cell_type": "code",
      "source": [
        "# shape\n",
        "print(\"\\nShape:\", student_df.shape)\n",
        "# columns\n",
        "print(\"\\nColumns:\", student_df.columns.tolist())\n",
        "# info\n",
        "print(\"\\nDataFrame Info:\")\n",
        "print(student_df.info())"
      ],
      "metadata": {
        "id": "hKSATzkD-YW6",
        "outputId": "fc479477-fcb4-4c5c-b99d-04fc30399eb6",
        "colab": {
          "base_uri": "https://localhost:8080/"
        }
      },
      "execution_count": null,
      "outputs": [
        {
          "output_type": "stream",
          "name": "stdout",
          "text": [
            "\n",
            "Shape: (5, 4)\n",
            "\n",
            "Columns: ['Name', 'GPA', 'Credits', 'is_Graduating']\n",
            "\n",
            "DataFrame Info:\n",
            "<class 'pandas.core.frame.DataFrame'>\n",
            "RangeIndex: 5 entries, 0 to 4\n",
            "Data columns (total 4 columns):\n",
            " #   Column         Non-Null Count  Dtype  \n",
            "---  ------         --------------  -----  \n",
            " 0   Name           5 non-null      object \n",
            " 1   GPA            5 non-null      float64\n",
            " 2   Credits        5 non-null      int64  \n",
            " 3   is_Graduating  5 non-null      bool   \n",
            "dtypes: bool(1), float64(1), int64(1), object(1)\n",
            "memory usage: 257.0+ bytes\n",
            "None\n"
          ]
        }
      ]
    },
    {
      "cell_type": "code",
      "source": [
        "# Bonus\n",
        "student_df.rename(columns={\"is_Graduating\": \"WTF\"}, inplace=True)\n",
        "print(\"\\nRenamed column:\")\n",
        "print(student_df.head())"
      ],
      "metadata": {
        "id": "QuejVSKE-cUJ",
        "outputId": "2cd57782-0f52-4fdd-9ff0-64935592184a",
        "colab": {
          "base_uri": "https://localhost:8080/"
        }
      },
      "execution_count": null,
      "outputs": [
        {
          "output_type": "stream",
          "name": "stdout",
          "text": [
            "\n",
            "Renamed column:\n",
            "     Name   GPA  Credits    WTF\n",
            "0   Jadyn  3.25      143   True\n",
            "1  Gracie  3.10       28  False\n",
            "2  Sophia  4.00       32  False\n",
            "3  Maggie  3.60       16  False\n",
            "4   Daiza  3.80      150   True\n"
          ]
        }
      ]
    },
    {
      "cell_type": "markdown",
      "metadata": {
        "id": "D75eD5Xz3kOf"
      },
      "source": [
        "---\n",
        "## 📎 Side Notes\n",
        "- A `Series` is like a single column of a spreadsheet.\n",
        "- A `DataFrame` is like the full spreadsheet.\n",
        "- Rows and columns can both have labels (called the **index** and **columns**).\n",
        "\n",
        "Next stop: loading data from the real world. Brace yourself for CSVs."
      ]
    }
  ],
  "metadata": {
    "kernelspec": {
      "display_name": "Python 3",
      "language": "python",
      "name": "python3"
    },
    "language_info": {
      "name": "python",
      "version": ""
    },
    "colab": {
      "provenance": []
    }
  },
  "nbformat": 4,
  "nbformat_minor": 0
}
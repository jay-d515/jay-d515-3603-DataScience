{
  "cells": [
    {
      "cell_type": "markdown",
      "source": [
        "\n",
        "\n",
        "```\n",
        "# Jadyn Dangerfield\n",
        "# Assignment: 01 Lists, Dicts, Tuples, and Sets\n",
        "```\n",
        "\n"
      ],
      "metadata": {
        "id": "3YRkU-8s_dno"
      }
    },
    {
      "cell_type": "markdown",
      "metadata": {
        "id": "wjiuZslZJCiO"
      },
      "source": [
        "# 🧠 Notebook 01: Lists, Dicts, Tuples, and Sets (Oh My!)\n",
        "\n",
        "Welcome, data tamer. Before we dance with DataFrames and juggle Series, we must revisit the sacred scrolls of Python's core data structures.\n",
        "\n",
        "In this notebook, you will:\n",
        "- Recap the mighty `list`, `dict`, `tuple`, and `set`\n",
        "- Learn what makes each special (besides being annoying to explain at parties)\n",
        "- Practice slicing, accessing, and modifying them\n",
        "- Build up intuition for working with structured data\n",
        "\n",
        "---"
      ]
    },
    {
      "cell_type": "markdown",
      "metadata": {
        "id": "Z6y5qROJJCiS"
      },
      "source": [
        "## 🧺 Lists\n",
        "`list`: Ordered, mutable, and basically the cargo pants of Python."
      ]
    },
    {
      "cell_type": "code",
      "execution_count": null,
      "metadata": {
        "colab": {
          "base_uri": "https://localhost:8080/"
        },
        "id": "tpxtEJDEJCiT",
        "outputId": "aeda1eed-f0db-48b4-e4d4-9a6c689743f1"
      },
      "outputs": [
        {
          "output_type": "stream",
          "name": "stdout",
          "text": [
            "First fruit: apple\n",
            "Last fruit: dragonfruit\n",
            "Updated list: ['apple', 'banana', 'cherry', 'dragonfruit', 'elderberry']\n"
          ]
        }
      ],
      "source": [
        "fruits = [\"apple\", \"banana\", \"cherry\", \"dragonfruit\"]\n",
        "print(\"First fruit:\", fruits[0])\n",
        "print(\"Last fruit:\", fruits[-1])\n",
        "\n",
        "fruits.append(\"elderberry\")\n",
        "print(\"Updated list:\", fruits)"
      ]
    },
    {
      "cell_type": "markdown",
      "metadata": {
        "id": "4nsTY2mtJCiX"
      },
      "source": [
        "## 🔐 Tuples\n",
        "`tuple`: Like lists, but committed — they don’t change. Perfect for fixed data."
      ]
    },
    {
      "cell_type": "code",
      "execution_count": null,
      "metadata": {
        "colab": {
          "base_uri": "https://localhost:8080/"
        },
        "id": "jZQjguVLJCiY",
        "outputId": "aa433b2b-7fa9-4568-e34c-2adc3cfdd767"
      },
      "outputs": [
        {
          "output_type": "stream",
          "name": "stdout",
          "text": [
            "Coordinates: (34.05, -118.25)\n"
          ]
        }
      ],
      "source": [
        "coordinates = (34.05, -118.25)  # Latitude, Longitude\n",
        "print(\"Coordinates:\", coordinates)\n",
        "\n",
        "# Uncomment this to see Python throw a tantrum\n",
        "# coordinates[0] = 0"
      ]
    },
    {
      "cell_type": "markdown",
      "metadata": {
        "id": "-fHygCfVJCiY"
      },
      "source": [
        "## 📦 Dictionaries\n",
        "`dict`: Key-value pairs. Like JSON, but with fewer quotation marks and more sarcasm."
      ]
    },
    {
      "cell_type": "code",
      "execution_count": null,
      "metadata": {
        "colab": {
          "base_uri": "https://localhost:8080/"
        },
        "id": "_PhL5-S_JCiZ",
        "outputId": "ea250768-4dad-4c57-f969-949357b0e601"
      },
      "outputs": [
        {
          "output_type": "stream",
          "name": "stdout",
          "text": [
            "Student name: Alice\n",
            "GPA using .get(): 3.9\n",
            "Updated dictionary: {'name': 'Alice', 'GPA': 3.9, 'major': 'Data Science', 'minor': 'Philosophy'}\n"
          ]
        }
      ],
      "source": [
        "student = {\n",
        "    \"name\": \"Alice\",\n",
        "    \"GPA\": 3.9,\n",
        "    \"major\": \"Data Science\"\n",
        "}\n",
        "\n",
        "print(\"Student name:\", student[\"name\"])\n",
        "print(\"GPA using .get():\", student.get(\"GPA\"))\n",
        "\n",
        "student[\"minor\"] = \"Philosophy\"\n",
        "print(\"Updated dictionary:\", student)"
      ]
    },
    {
      "cell_type": "markdown",
      "metadata": {
        "id": "0s_2xHH7JCia"
      },
      "source": [
        "## 🎯 Sets\n",
        "`set`: Unordered, unique values only. Great for removing duplicates or doing cool mathy stuff."
      ]
    },
    {
      "cell_type": "code",
      "execution_count": null,
      "metadata": {
        "colab": {
          "base_uri": "https://localhost:8080/"
        },
        "id": "odqDUHrgJCia",
        "outputId": "cdfc9c1c-48e8-436e-9abe-9333191d93bc"
      },
      "outputs": [
        {
          "output_type": "stream",
          "name": "stdout",
          "text": [
            "Courses: {'CS101', 'CS102', 'CS103'}\n",
            "Is CS102 in the set? True\n",
            "Modified courses: {'CS102', 'CS104', 'CS103'}\n"
          ]
        }
      ],
      "source": [
        "courses = {\"CS101\", \"CS102\", \"CS103\", \"CS101\"}  # Duplicate ignored\n",
        "print(\"Courses:\", courses)\n",
        "\n",
        "print(\"Is CS102 in the set?\", \"CS102\" in courses)\n",
        "\n",
        "courses.add(\"CS104\")\n",
        "courses.discard(\"CS101\")\n",
        "print(\"Modified courses:\", courses)"
      ]
    },
    {
      "cell_type": "markdown",
      "metadata": {
        "id": "tL5UVhKOJCib"
      },
      "source": [
        "---\n",
        "## 🧰 Your Turn\n",
        "\n",
        "1. Create a list of your top 5 favorite foods. Print the last item using a negative index.\n",
        "2. Create a dictionary that maps student names to GPA (be kind). Add a new student.\n",
        "3. Make a tuple of the days of the week. Try to change one. Document what happens.\n",
        "4. Create a `set` of course names. Add a duplicate. Reflect on how sets feel about duplicates.\n",
        "\n",
        "🎯 **Bonus**: Use a list comprehension to build a list of all squares from 1–20."
      ]
    },
    {
      "cell_type": "code",
      "execution_count": null,
      "metadata": {
        "colab": {
          "base_uri": "https://localhost:8080/"
        },
        "id": "rmJk9SkmJCib",
        "outputId": "cef2fd66-9563-4e05-86d8-0cebaf60953c"
      },
      "outputs": [
        {
          "output_type": "stream",
          "name": "stdout",
          "text": [
            "Strawberry Shortcake\n"
          ]
        }
      ],
      "source": [
        "# creates a list of my top 5 favorite foods\n",
        "foods = [\"Chicken Alfredo Pasta\", \"Seafood Boil\", \"Seafood ALfredo Pasta\", \"Street Tacos\", \"Strawberry Shortcake\"]\n",
        "# prints the last item of the list\n",
        "print(foods[-1])"
      ]
    },
    {
      "cell_type": "code",
      "source": [
        "# creates a dictionary that maps student names to their major GPA\n",
        "students = {\n",
        "    \"Jadyn\": {\n",
        "        \"major\": \"Computer Science\",\n",
        "        \"GPA\": 3.25\n",
        "    }\n",
        "}\n",
        "\n",
        "print(\"Student Jadyn:\", students[\"Jadyn\"])\n",
        "\n",
        "# adds a new student to the dictionary\n",
        "students[\"Gracie\"] = {\n",
        "    \"major\": \"Physical Therapy\",\n",
        "    \"GPA\": 3.0\n",
        "}\n",
        "\n",
        "# prints updated dictionary\n",
        "print(\"Updated dictionary: \", students)"
      ],
      "metadata": {
        "colab": {
          "base_uri": "https://localhost:8080/"
        },
        "id": "-2U8uI8vKAUI",
        "outputId": "e0695b43-997a-41f8-c858-584cc8417460"
      },
      "execution_count": null,
      "outputs": [
        {
          "output_type": "stream",
          "name": "stdout",
          "text": [
            "Student Jadyn: {'major': 'Computer Science', 'GPA': 3.25}\n",
            "Updated dictionary:  {'Jadyn': {'major': 'Computer Science', 'GPA': 3.25}, 'Gracie': {'major': 'Physical Therapy', 'GPA': 3.0}}\n"
          ]
        }
      ]
    },
    {
      "cell_type": "code",
      "source": [
        "# makes a tuple of the days of the week\n",
        "days = (\"Monday\", \"Tuesday\", \"Wednesday\", \"Thursday\", \"Friday\", \"Saturday\", \"Sunday\")\n",
        "print(\"Days of the Week: \", days)\n",
        "\n",
        "# trys to change one\n",
        "days[0] = \"Cyber Monday\""
      ],
      "metadata": {
        "colab": {
          "base_uri": "https://localhost:8080/",
          "height": 193
        },
        "id": "glA5lLn5Ly_p",
        "outputId": "4a6450c4-67ca-4d70-ed46-07abb7d38841"
      },
      "execution_count": null,
      "outputs": [
        {
          "output_type": "stream",
          "name": "stdout",
          "text": [
            "Days of the Week:  ('Monday', 'Tuesday', 'Wednesday', 'Thursday', 'Friday', 'Saturday', 'Sunday')\n"
          ]
        },
        {
          "output_type": "error",
          "ename": "TypeError",
          "evalue": "'tuple' object does not support item assignment",
          "traceback": [
            "\u001b[0;31m---------------------------------------------------------------------------\u001b[0m",
            "\u001b[0;31mTypeError\u001b[0m                                 Traceback (most recent call last)",
            "\u001b[0;32m/tmp/ipython-input-2286614324.py\u001b[0m in \u001b[0;36m<cell line: 0>\u001b[0;34m()\u001b[0m\n\u001b[1;32m      2\u001b[0m \u001b[0mprint\u001b[0m\u001b[0;34m(\u001b[0m\u001b[0;34m\"Days of the Week: \"\u001b[0m\u001b[0;34m,\u001b[0m \u001b[0mdays\u001b[0m\u001b[0;34m)\u001b[0m\u001b[0;34m\u001b[0m\u001b[0;34m\u001b[0m\u001b[0m\n\u001b[1;32m      3\u001b[0m \u001b[0;34m\u001b[0m\u001b[0m\n\u001b[0;32m----> 4\u001b[0;31m \u001b[0mdays\u001b[0m\u001b[0;34m[\u001b[0m\u001b[0;36m0\u001b[0m\u001b[0;34m]\u001b[0m \u001b[0;34m=\u001b[0m \u001b[0;34m\"Cyber Monday\"\u001b[0m\u001b[0;34m\u001b[0m\u001b[0;34m\u001b[0m\u001b[0m\n\u001b[0m",
            "\u001b[0;31mTypeError\u001b[0m: 'tuple' object does not support item assignment"
          ]
        }
      ]
    },
    {
      "cell_type": "markdown",
      "source": [
        "When you try to change the name of something in a tuple, you recieve an error saying that a tuple object doesn't support the ability to rename an assignment."
      ],
      "metadata": {
        "id": "bDGu2j1d_rpo"
      }
    },
    {
      "cell_type": "code",
      "source": [
        "# creates a set of classes with duplicates\n",
        "classes = {\"CS101\", \"CS102\", \"CS101\", \"CS103\"}\n",
        "# prints the set\n",
        "print(\"Classes: \", classes)\n"
      ],
      "metadata": {
        "colab": {
          "base_uri": "https://localhost:8080/"
        },
        "id": "q7FZW0SEMP_9",
        "outputId": "098e7ee9-61a3-4f9a-ac6e-d0af439588de"
      },
      "execution_count": null,
      "outputs": [
        {
          "output_type": "stream",
          "name": "stdout",
          "text": [
            "Classes:  {'CS101', 'CS103', 'CS102'}\n"
          ]
        }
      ]
    },
    {
      "cell_type": "markdown",
      "metadata": {
        "id": "fb9cf6a6"
      },
      "source": [
        "When you create a `set` that has a duplicate in it, the duplicate is ignored, and the set will only contain one instance of that element."
      ]
    },
    {
      "cell_type": "markdown",
      "metadata": {
        "id": "LW7y0ws-JCic"
      },
      "source": [
        "---\n",
        "## 🧼 Why This Matters\n",
        "\n",
        "Before we start feeding `.csv` files into Pandas like a malfunctioning vending machine, we need to truly *feel* how data is structured. These built-in types help shape, store, and manipulate everything we’ll touch from here on.\n",
        "\n",
        "Next up? Pandas `Series` and `DataFrames`. Buckle up."
      ]
    }
  ],
  "metadata": {
    "kernelspec": {
      "display_name": "Python 3",
      "language": "python",
      "name": "python3"
    },
    "language_info": {
      "name": "python",
      "version": ""
    },
    "colab": {
      "provenance": []
    }
  },
  "nbformat": 4,
  "nbformat_minor": 0
}